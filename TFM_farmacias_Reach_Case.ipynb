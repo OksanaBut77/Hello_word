{
  "nbformat": 4,
  "nbformat_minor": 0,
  "metadata": {
    "colab": {
      "provenance": [],
      "mount_file_id": "1dloTWDurSyqtWVvYJeBb-HEULYTH7HW5",
      "authorship_tag": "ABX9TyMR1JzuhPkgsKfKkakWb3wa",
      "include_colab_link": true
    },
    "kernelspec": {
      "name": "python3",
      "display_name": "Python 3"
    },
    "language_info": {
      "name": "python"
    }
  },
  "cells": [
    {
      "cell_type": "markdown",
      "metadata": {
        "id": "view-in-github",
        "colab_type": "text"
      },
      "source": [
        "<a href=\"https://colab.research.google.com/github/OksanaBut77/TFM/blob/main/TFM_farmacias_Reach_Case.ipynb\" target=\"_parent\"><img src=\"https://colab.research.google.com/assets/colab-badge.svg\" alt=\"Open In Colab\"/></a>"
      ]
    },
    {
      "cell_type": "code",
      "execution_count": null,
      "metadata": {
        "id": "FkFp93nfBVaQ"
      },
      "outputs": [],
      "source": [
        "import pandas as pd\n",
        "import numpy as np\n",
        "import matplotlib.pyplot as plt\n",
        "import seaborn as sns\n",
        "from google.colab import files\n",
        "from sklearn.metrics import classification_report, accuracy_score, confusion_matrix"
      ]
    },
    {
      "cell_type": "code",
      "source": [
        "df_cambio_cl=pd.read_csv('/content/drive/MyDrive/TFM/df_member_cluster change_drop.csv')\n",
        "df_cambio_cl.head()"
      ],
      "metadata": {
        "colab": {
          "base_uri": "https://localhost:8080/",
          "height": 313
        },
        "id": "phwr-w1mCjzl",
        "outputId": "c732f46e-e4c3-4e98-bbf6-b37e54ba75c6",
        "collapsed": true
      },
      "execution_count": null,
      "outputs": [
        {
          "output_type": "execute_result",
          "data": {
            "text/plain": [
              "   depart_id  card_id  member_class    last_consume_time  card_type  \\\n",
              "0     270297  3208730          1099  2020-01-22 09:18:15          0   \n",
              "1     270155  4053950          1223  2021-12-05 18:49:25          0   \n",
              "2     270117  5000310          1238  2019-04-11 14:36:05          0   \n",
              "3     270114  5004500          1100  2021-09-23 19:46:04          0   \n",
              "4     270121  5006030          1107  2021-12-12 21:12:36          0   \n",
              "\n",
              "   define_class  is_suff  level    birthday  consume_level  point  \\\n",
              "0           346        0      2  1954-07-24              1    0.0   \n",
              "1           224        0      3  1951-09-13              1    0.0   \n",
              "2           249        0      2  1965-02-03              1    5.0   \n",
              "3           488        0      3  1964-09-21              1    0.0   \n",
              "4           260        0      3  1972-12-17              1    0.0   \n",
              "\n",
              "            updatetime  sex   age  Recency  Cluster_KMeans_2020  \\\n",
              "0  2021-09-13 06:18:05  0.0  67.0      599                  0.0   \n",
              "1  2021-12-14 05:57:15  1.0  70.0        8                  NaN   \n",
              "2  2021-09-13 06:18:05  0.0  56.0      885                  0.0   \n",
              "3  2021-10-08 04:30:28  1.0  57.0       14                  NaN   \n",
              "4  2021-12-14 05:57:15  0.0  49.0        1                  NaN   \n",
              "\n",
              "   Cluster_KMeans_2021  cluster_changed  \n",
              "0                    1                1  \n",
              "1                    0                1  \n",
              "2                    1                1  \n",
              "3                    0                1  \n",
              "4                    0                1  "
            ],
            "text/html": [
              "\n",
              "  <div id=\"df-4225da35-1821-4638-987e-06f8e444f6a0\" class=\"colab-df-container\">\n",
              "    <div>\n",
              "<style scoped>\n",
              "    .dataframe tbody tr th:only-of-type {\n",
              "        vertical-align: middle;\n",
              "    }\n",
              "\n",
              "    .dataframe tbody tr th {\n",
              "        vertical-align: top;\n",
              "    }\n",
              "\n",
              "    .dataframe thead th {\n",
              "        text-align: right;\n",
              "    }\n",
              "</style>\n",
              "<table border=\"1\" class=\"dataframe\">\n",
              "  <thead>\n",
              "    <tr style=\"text-align: right;\">\n",
              "      <th></th>\n",
              "      <th>depart_id</th>\n",
              "      <th>card_id</th>\n",
              "      <th>member_class</th>\n",
              "      <th>last_consume_time</th>\n",
              "      <th>card_type</th>\n",
              "      <th>define_class</th>\n",
              "      <th>is_suff</th>\n",
              "      <th>level</th>\n",
              "      <th>birthday</th>\n",
              "      <th>consume_level</th>\n",
              "      <th>point</th>\n",
              "      <th>updatetime</th>\n",
              "      <th>sex</th>\n",
              "      <th>age</th>\n",
              "      <th>Recency</th>\n",
              "      <th>Cluster_KMeans_2020</th>\n",
              "      <th>Cluster_KMeans_2021</th>\n",
              "      <th>cluster_changed</th>\n",
              "    </tr>\n",
              "  </thead>\n",
              "  <tbody>\n",
              "    <tr>\n",
              "      <th>0</th>\n",
              "      <td>270297</td>\n",
              "      <td>3208730</td>\n",
              "      <td>1099</td>\n",
              "      <td>2020-01-22 09:18:15</td>\n",
              "      <td>0</td>\n",
              "      <td>346</td>\n",
              "      <td>0</td>\n",
              "      <td>2</td>\n",
              "      <td>1954-07-24</td>\n",
              "      <td>1</td>\n",
              "      <td>0.0</td>\n",
              "      <td>2021-09-13 06:18:05</td>\n",
              "      <td>0.0</td>\n",
              "      <td>67.0</td>\n",
              "      <td>599</td>\n",
              "      <td>0.0</td>\n",
              "      <td>1</td>\n",
              "      <td>1</td>\n",
              "    </tr>\n",
              "    <tr>\n",
              "      <th>1</th>\n",
              "      <td>270155</td>\n",
              "      <td>4053950</td>\n",
              "      <td>1223</td>\n",
              "      <td>2021-12-05 18:49:25</td>\n",
              "      <td>0</td>\n",
              "      <td>224</td>\n",
              "      <td>0</td>\n",
              "      <td>3</td>\n",
              "      <td>1951-09-13</td>\n",
              "      <td>1</td>\n",
              "      <td>0.0</td>\n",
              "      <td>2021-12-14 05:57:15</td>\n",
              "      <td>1.0</td>\n",
              "      <td>70.0</td>\n",
              "      <td>8</td>\n",
              "      <td>NaN</td>\n",
              "      <td>0</td>\n",
              "      <td>1</td>\n",
              "    </tr>\n",
              "    <tr>\n",
              "      <th>2</th>\n",
              "      <td>270117</td>\n",
              "      <td>5000310</td>\n",
              "      <td>1238</td>\n",
              "      <td>2019-04-11 14:36:05</td>\n",
              "      <td>0</td>\n",
              "      <td>249</td>\n",
              "      <td>0</td>\n",
              "      <td>2</td>\n",
              "      <td>1965-02-03</td>\n",
              "      <td>1</td>\n",
              "      <td>5.0</td>\n",
              "      <td>2021-09-13 06:18:05</td>\n",
              "      <td>0.0</td>\n",
              "      <td>56.0</td>\n",
              "      <td>885</td>\n",
              "      <td>0.0</td>\n",
              "      <td>1</td>\n",
              "      <td>1</td>\n",
              "    </tr>\n",
              "    <tr>\n",
              "      <th>3</th>\n",
              "      <td>270114</td>\n",
              "      <td>5004500</td>\n",
              "      <td>1100</td>\n",
              "      <td>2021-09-23 19:46:04</td>\n",
              "      <td>0</td>\n",
              "      <td>488</td>\n",
              "      <td>0</td>\n",
              "      <td>3</td>\n",
              "      <td>1964-09-21</td>\n",
              "      <td>1</td>\n",
              "      <td>0.0</td>\n",
              "      <td>2021-10-08 04:30:28</td>\n",
              "      <td>1.0</td>\n",
              "      <td>57.0</td>\n",
              "      <td>14</td>\n",
              "      <td>NaN</td>\n",
              "      <td>0</td>\n",
              "      <td>1</td>\n",
              "    </tr>\n",
              "    <tr>\n",
              "      <th>4</th>\n",
              "      <td>270121</td>\n",
              "      <td>5006030</td>\n",
              "      <td>1107</td>\n",
              "      <td>2021-12-12 21:12:36</td>\n",
              "      <td>0</td>\n",
              "      <td>260</td>\n",
              "      <td>0</td>\n",
              "      <td>3</td>\n",
              "      <td>1972-12-17</td>\n",
              "      <td>1</td>\n",
              "      <td>0.0</td>\n",
              "      <td>2021-12-14 05:57:15</td>\n",
              "      <td>0.0</td>\n",
              "      <td>49.0</td>\n",
              "      <td>1</td>\n",
              "      <td>NaN</td>\n",
              "      <td>0</td>\n",
              "      <td>1</td>\n",
              "    </tr>\n",
              "  </tbody>\n",
              "</table>\n",
              "</div>\n",
              "    <div class=\"colab-df-buttons\">\n",
              "\n",
              "  <div class=\"colab-df-container\">\n",
              "    <button class=\"colab-df-convert\" onclick=\"convertToInteractive('df-4225da35-1821-4638-987e-06f8e444f6a0')\"\n",
              "            title=\"Convert this dataframe to an interactive table.\"\n",
              "            style=\"display:none;\">\n",
              "\n",
              "  <svg xmlns=\"http://www.w3.org/2000/svg\" height=\"24px\" viewBox=\"0 -960 960 960\">\n",
              "    <path d=\"M120-120v-720h720v720H120Zm60-500h600v-160H180v160Zm220 220h160v-160H400v160Zm0 220h160v-160H400v160ZM180-400h160v-160H180v160Zm440 0h160v-160H620v160ZM180-180h160v-160H180v160Zm440 0h160v-160H620v160Z\"/>\n",
              "  </svg>\n",
              "    </button>\n",
              "\n",
              "  <style>\n",
              "    .colab-df-container {\n",
              "      display:flex;\n",
              "      gap: 12px;\n",
              "    }\n",
              "\n",
              "    .colab-df-convert {\n",
              "      background-color: #E8F0FE;\n",
              "      border: none;\n",
              "      border-radius: 50%;\n",
              "      cursor: pointer;\n",
              "      display: none;\n",
              "      fill: #1967D2;\n",
              "      height: 32px;\n",
              "      padding: 0 0 0 0;\n",
              "      width: 32px;\n",
              "    }\n",
              "\n",
              "    .colab-df-convert:hover {\n",
              "      background-color: #E2EBFA;\n",
              "      box-shadow: 0px 1px 2px rgba(60, 64, 67, 0.3), 0px 1px 3px 1px rgba(60, 64, 67, 0.15);\n",
              "      fill: #174EA6;\n",
              "    }\n",
              "\n",
              "    .colab-df-buttons div {\n",
              "      margin-bottom: 4px;\n",
              "    }\n",
              "\n",
              "    [theme=dark] .colab-df-convert {\n",
              "      background-color: #3B4455;\n",
              "      fill: #D2E3FC;\n",
              "    }\n",
              "\n",
              "    [theme=dark] .colab-df-convert:hover {\n",
              "      background-color: #434B5C;\n",
              "      box-shadow: 0px 1px 3px 1px rgba(0, 0, 0, 0.15);\n",
              "      filter: drop-shadow(0px 1px 2px rgba(0, 0, 0, 0.3));\n",
              "      fill: #FFFFFF;\n",
              "    }\n",
              "  </style>\n",
              "\n",
              "    <script>\n",
              "      const buttonEl =\n",
              "        document.querySelector('#df-4225da35-1821-4638-987e-06f8e444f6a0 button.colab-df-convert');\n",
              "      buttonEl.style.display =\n",
              "        google.colab.kernel.accessAllowed ? 'block' : 'none';\n",
              "\n",
              "      async function convertToInteractive(key) {\n",
              "        const element = document.querySelector('#df-4225da35-1821-4638-987e-06f8e444f6a0');\n",
              "        const dataTable =\n",
              "          await google.colab.kernel.invokeFunction('convertToInteractive',\n",
              "                                                    [key], {});\n",
              "        if (!dataTable) return;\n",
              "\n",
              "        const docLinkHtml = 'Like what you see? Visit the ' +\n",
              "          '<a target=\"_blank\" href=https://colab.research.google.com/notebooks/data_table.ipynb>data table notebook</a>'\n",
              "          + ' to learn more about interactive tables.';\n",
              "        element.innerHTML = '';\n",
              "        dataTable['output_type'] = 'display_data';\n",
              "        await google.colab.output.renderOutput(dataTable, element);\n",
              "        const docLink = document.createElement('div');\n",
              "        docLink.innerHTML = docLinkHtml;\n",
              "        element.appendChild(docLink);\n",
              "      }\n",
              "    </script>\n",
              "  </div>\n",
              "\n",
              "\n",
              "    <div id=\"df-0cd5bd8f-ff9a-406a-abc1-180b57de5785\">\n",
              "      <button class=\"colab-df-quickchart\" onclick=\"quickchart('df-0cd5bd8f-ff9a-406a-abc1-180b57de5785')\"\n",
              "                title=\"Suggest charts\"\n",
              "                style=\"display:none;\">\n",
              "\n",
              "<svg xmlns=\"http://www.w3.org/2000/svg\" height=\"24px\"viewBox=\"0 0 24 24\"\n",
              "     width=\"24px\">\n",
              "    <g>\n",
              "        <path d=\"M19 3H5c-1.1 0-2 .9-2 2v14c0 1.1.9 2 2 2h14c1.1 0 2-.9 2-2V5c0-1.1-.9-2-2-2zM9 17H7v-7h2v7zm4 0h-2V7h2v10zm4 0h-2v-4h2v4z\"/>\n",
              "    </g>\n",
              "</svg>\n",
              "      </button>\n",
              "\n",
              "<style>\n",
              "  .colab-df-quickchart {\n",
              "      --bg-color: #E8F0FE;\n",
              "      --fill-color: #1967D2;\n",
              "      --hover-bg-color: #E2EBFA;\n",
              "      --hover-fill-color: #174EA6;\n",
              "      --disabled-fill-color: #AAA;\n",
              "      --disabled-bg-color: #DDD;\n",
              "  }\n",
              "\n",
              "  [theme=dark] .colab-df-quickchart {\n",
              "      --bg-color: #3B4455;\n",
              "      --fill-color: #D2E3FC;\n",
              "      --hover-bg-color: #434B5C;\n",
              "      --hover-fill-color: #FFFFFF;\n",
              "      --disabled-bg-color: #3B4455;\n",
              "      --disabled-fill-color: #666;\n",
              "  }\n",
              "\n",
              "  .colab-df-quickchart {\n",
              "    background-color: var(--bg-color);\n",
              "    border: none;\n",
              "    border-radius: 50%;\n",
              "    cursor: pointer;\n",
              "    display: none;\n",
              "    fill: var(--fill-color);\n",
              "    height: 32px;\n",
              "    padding: 0;\n",
              "    width: 32px;\n",
              "  }\n",
              "\n",
              "  .colab-df-quickchart:hover {\n",
              "    background-color: var(--hover-bg-color);\n",
              "    box-shadow: 0 1px 2px rgba(60, 64, 67, 0.3), 0 1px 3px 1px rgba(60, 64, 67, 0.15);\n",
              "    fill: var(--button-hover-fill-color);\n",
              "  }\n",
              "\n",
              "  .colab-df-quickchart-complete:disabled,\n",
              "  .colab-df-quickchart-complete:disabled:hover {\n",
              "    background-color: var(--disabled-bg-color);\n",
              "    fill: var(--disabled-fill-color);\n",
              "    box-shadow: none;\n",
              "  }\n",
              "\n",
              "  .colab-df-spinner {\n",
              "    border: 2px solid var(--fill-color);\n",
              "    border-color: transparent;\n",
              "    border-bottom-color: var(--fill-color);\n",
              "    animation:\n",
              "      spin 1s steps(1) infinite;\n",
              "  }\n",
              "\n",
              "  @keyframes spin {\n",
              "    0% {\n",
              "      border-color: transparent;\n",
              "      border-bottom-color: var(--fill-color);\n",
              "      border-left-color: var(--fill-color);\n",
              "    }\n",
              "    20% {\n",
              "      border-color: transparent;\n",
              "      border-left-color: var(--fill-color);\n",
              "      border-top-color: var(--fill-color);\n",
              "    }\n",
              "    30% {\n",
              "      border-color: transparent;\n",
              "      border-left-color: var(--fill-color);\n",
              "      border-top-color: var(--fill-color);\n",
              "      border-right-color: var(--fill-color);\n",
              "    }\n",
              "    40% {\n",
              "      border-color: transparent;\n",
              "      border-right-color: var(--fill-color);\n",
              "      border-top-color: var(--fill-color);\n",
              "    }\n",
              "    60% {\n",
              "      border-color: transparent;\n",
              "      border-right-color: var(--fill-color);\n",
              "    }\n",
              "    80% {\n",
              "      border-color: transparent;\n",
              "      border-right-color: var(--fill-color);\n",
              "      border-bottom-color: var(--fill-color);\n",
              "    }\n",
              "    90% {\n",
              "      border-color: transparent;\n",
              "      border-bottom-color: var(--fill-color);\n",
              "    }\n",
              "  }\n",
              "</style>\n",
              "\n",
              "      <script>\n",
              "        async function quickchart(key) {\n",
              "          const quickchartButtonEl =\n",
              "            document.querySelector('#' + key + ' button');\n",
              "          quickchartButtonEl.disabled = true;  // To prevent multiple clicks.\n",
              "          quickchartButtonEl.classList.add('colab-df-spinner');\n",
              "          try {\n",
              "            const charts = await google.colab.kernel.invokeFunction(\n",
              "                'suggestCharts', [key], {});\n",
              "          } catch (error) {\n",
              "            console.error('Error during call to suggestCharts:', error);\n",
              "          }\n",
              "          quickchartButtonEl.classList.remove('colab-df-spinner');\n",
              "          quickchartButtonEl.classList.add('colab-df-quickchart-complete');\n",
              "        }\n",
              "        (() => {\n",
              "          let quickchartButtonEl =\n",
              "            document.querySelector('#df-0cd5bd8f-ff9a-406a-abc1-180b57de5785 button');\n",
              "          quickchartButtonEl.style.display =\n",
              "            google.colab.kernel.accessAllowed ? 'block' : 'none';\n",
              "        })();\n",
              "      </script>\n",
              "    </div>\n",
              "\n",
              "    </div>\n",
              "  </div>\n"
            ],
            "application/vnd.google.colaboratory.intrinsic+json": {
              "type": "dataframe",
              "variable_name": "df_cambio_cl",
              "summary": "{\n  \"name\": \"df_cambio_cl\",\n  \"rows\": 2687,\n  \"fields\": [\n    {\n      \"column\": \"depart_id\",\n      \"properties\": {\n        \"dtype\": \"number\",\n        \"std\": 97,\n        \"min\": 270001,\n        \"max\": 270416,\n        \"num_unique_values\": 257,\n        \"samples\": [\n          270109,\n          270323,\n          270190\n        ],\n        \"semantic_type\": \"\",\n        \"description\": \"\"\n      }\n    },\n    {\n      \"column\": \"card_id\",\n      \"properties\": {\n        \"dtype\": \"string\",\n        \"num_unique_values\": 2687,\n        \"samples\": [\n          \"00463528\",\n          \"00384014\",\n          \"00516759\"\n        ],\n        \"semantic_type\": \"\",\n        \"description\": \"\"\n      }\n    },\n    {\n      \"column\": \"member_class\",\n      \"properties\": {\n        \"dtype\": \"number\",\n        \"std\": 717,\n        \"min\": 0,\n        \"max\": 2492,\n        \"num_unique_values\": 2493,\n        \"samples\": [\n          2072,\n          553,\n          1550\n        ],\n        \"semantic_type\": \"\",\n        \"description\": \"\"\n      }\n    },\n    {\n      \"column\": \"last_consume_time\",\n      \"properties\": {\n        \"dtype\": \"object\",\n        \"num_unique_values\": 2687,\n        \"samples\": [\n          \"2017-12-07 11:07:26\",\n          \"2019-11-22 12:08:05\",\n          \"2018-05-08 14:08:57\"\n        ],\n        \"semantic_type\": \"\",\n        \"description\": \"\"\n      }\n    },\n    {\n      \"column\": \"card_type\",\n      \"properties\": {\n        \"dtype\": \"number\",\n        \"std\": 1,\n        \"min\": 0,\n        \"max\": 7,\n        \"num_unique_values\": 8,\n        \"samples\": [\n          1,\n          5,\n          0\n        ],\n        \"semantic_type\": \"\",\n        \"description\": \"\"\n      }\n    },\n    {\n      \"column\": \"define_class\",\n      \"properties\": {\n        \"dtype\": \"number\",\n        \"std\": 113,\n        \"min\": 0,\n        \"max\": 495,\n        \"num_unique_values\": 496,\n        \"samples\": [\n          98,\n          254,\n          200\n        ],\n        \"semantic_type\": \"\",\n        \"description\": \"\"\n      }\n    },\n    {\n      \"column\": \"is_suff\",\n      \"properties\": {\n        \"dtype\": \"number\",\n        \"std\": 0,\n        \"min\": 0,\n        \"max\": 1,\n        \"num_unique_values\": 2,\n        \"samples\": [\n          1,\n          0\n        ],\n        \"semantic_type\": \"\",\n        \"description\": \"\"\n      }\n    },\n    {\n      \"column\": \"level\",\n      \"properties\": {\n        \"dtype\": \"number\",\n        \"std\": 9,\n        \"min\": 0,\n        \"max\": 24,\n        \"num_unique_values\": 9,\n        \"samples\": [\n          5,\n          3\n        ],\n        \"semantic_type\": \"\",\n        \"description\": \"\"\n      }\n    },\n    {\n      \"column\": \"birthday\",\n      \"properties\": {\n        \"dtype\": \"object\",\n        \"num_unique_values\": 2265,\n        \"samples\": [\n          \"1978-05-03\",\n          \"1953-07-13\"\n        ],\n        \"semantic_type\": \"\",\n        \"description\": \"\"\n      }\n    },\n    {\n      \"column\": \"consume_level\",\n      \"properties\": {\n        \"dtype\": \"number\",\n        \"std\": 0,\n        \"min\": 1,\n        \"max\": 5,\n        \"num_unique_values\": 5,\n        \"samples\": [\n          2,\n          4\n        ],\n        \"semantic_type\": \"\",\n        \"description\": \"\"\n      }\n    },\n    {\n      \"column\": \"point\",\n      \"properties\": {\n        \"dtype\": \"number\",\n        \"std\": 2897.186636979755,\n        \"min\": 0.0,\n        \"max\": 93534.0,\n        \"num_unique_values\": 1286,\n        \"samples\": [\n          811.0,\n          388.0\n        ],\n        \"semantic_type\": \"\",\n        \"description\": \"\"\n      }\n    },\n    {\n      \"column\": \"updatetime\",\n      \"properties\": {\n        \"dtype\": \"object\",\n        \"num_unique_values\": 591,\n        \"samples\": [\n          \"2021-12-14 07:15:57\",\n          \"2021-12-14 06:34:02\"\n        ],\n        \"semantic_type\": \"\",\n        \"description\": \"\"\n      }\n    },\n    {\n      \"column\": \"sex\",\n      \"properties\": {\n        \"dtype\": \"number\",\n        \"std\": 0.49471517474347243,\n        \"min\": 0.0,\n        \"max\": 1.0,\n        \"num_unique_values\": 2,\n        \"samples\": [\n          1.0,\n          0.0\n        ],\n        \"semantic_type\": \"\",\n        \"description\": \"\"\n      }\n    },\n    {\n      \"column\": \"age\",\n      \"properties\": {\n        \"dtype\": \"number\",\n        \"std\": 15.409073764600619,\n        \"min\": 17.0,\n        \"max\": 79.0,\n        \"num_unique_values\": 63,\n        \"samples\": [\n          23.0,\n          25.0\n        ],\n        \"semantic_type\": \"\",\n        \"description\": \"\"\n      }\n    },\n    {\n      \"column\": \"Recency\",\n      \"properties\": {\n        \"dtype\": \"number\",\n        \"std\": 574,\n        \"min\": 1,\n        \"max\": 1459,\n        \"num_unique_values\": 750,\n        \"samples\": [\n          224,\n          396\n        ],\n        \"semantic_type\": \"\",\n        \"description\": \"\"\n      }\n    },\n    {\n      \"column\": \"Cluster_KMeans_2020\",\n      \"properties\": {\n        \"dtype\": \"number\",\n        \"std\": 0.48825733922898584,\n        \"min\": 0.0,\n        \"max\": 2.0,\n        \"num_unique_values\": 3,\n        \"samples\": [\n          0.0,\n          1.0\n        ],\n        \"semantic_type\": \"\",\n        \"description\": \"\"\n      }\n    },\n    {\n      \"column\": \"Cluster_KMeans_2021\",\n      \"properties\": {\n        \"dtype\": \"number\",\n        \"std\": 0,\n        \"min\": 0,\n        \"max\": 2,\n        \"num_unique_values\": 3,\n        \"samples\": [\n          1,\n          0\n        ],\n        \"semantic_type\": \"\",\n        \"description\": \"\"\n      }\n    },\n    {\n      \"column\": \"cluster_changed\",\n      \"properties\": {\n        \"dtype\": \"number\",\n        \"std\": 0,\n        \"min\": 0,\n        \"max\": 1,\n        \"num_unique_values\": 2,\n        \"samples\": [\n          0,\n          1\n        ],\n        \"semantic_type\": \"\",\n        \"description\": \"\"\n      }\n    }\n  ]\n}"
            }
          },
          "metadata": {},
          "execution_count": 34
        }
      ]
    },
    {
      "cell_type": "code",
      "source": [
        "df_cambio_cl.shape"
      ],
      "metadata": {
        "colab": {
          "base_uri": "https://localhost:8080/"
        },
        "id": "aqFfs-XQVPi6",
        "outputId": "d784cb3d-3127-4c72-eebe-1613781e7a9f"
      },
      "execution_count": null,
      "outputs": [
        {
          "output_type": "execute_result",
          "data": {
            "text/plain": [
              "(2687, 18)"
            ]
          },
          "metadata": {},
          "execution_count": 35
        }
      ]
    },
    {
      "cell_type": "code",
      "source": [
        "df_cambio_cl.columns"
      ],
      "metadata": {
        "colab": {
          "base_uri": "https://localhost:8080/"
        },
        "id": "xL1ehDu9C3xe",
        "outputId": "513c9f96-849f-4e9d-fbcd-4ff81e6378bf"
      },
      "execution_count": null,
      "outputs": [
        {
          "output_type": "execute_result",
          "data": {
            "text/plain": [
              "Index(['depart_id', 'card_id', 'member_class', 'last_consume_time',\n",
              "       'card_type', 'define_class', 'is_suff', 'level', 'birthday',\n",
              "       'consume_level', 'point', 'updatetime', 'sex', 'age', 'Recency',\n",
              "       'Cluster_KMeans_2020', 'Cluster_KMeans_2021', 'cluster_changed'],\n",
              "      dtype='object')"
            ]
          },
          "metadata": {},
          "execution_count": 36
        }
      ]
    },
    {
      "cell_type": "markdown",
      "source": [
        "# Logistic Regression"
      ],
      "metadata": {
        "id": "BfTeb-zoKFCi"
      }
    },
    {
      "cell_type": "markdown",
      "source": [
        "Preparación de los datos"
      ],
      "metadata": {
        "id": "bn8c7aiZFrlg"
      }
    },
    {
      "cell_type": "code",
      "source": [
        "import pandas as pd\n",
        "from sklearn.model_selection import train_test_split\n",
        "from sklearn.preprocessing import StandardScaler\n",
        "from sklearn.linear_model import LogisticRegression\n",
        "from sklearn.metrics import accuracy_score, roc_auc_score\n",
        "\n",
        "# exluir columnas no relevantrs\n",
        "X = df_cambio_cl.drop(columns=['depart_id', 'card_id', 'last_consume_time',\n",
        "      'birthday', 'updatetime','Cluster_KMeans_2020', 'Cluster_KMeans_2021', 'cluster_changed'])\n",
        "\n",
        "# Asegurémonos de que las variables categóricas están codificadas como numéricas\n",
        "# Usaremos dummies para las variables categóricas como 'sex', 'card_type', etc.\n",
        "X = pd.get_dummies(X, drop_first=True)\n",
        "\n",
        "# Target variable\n",
        "y = df_cambio_cl['cluster_changed']"
      ],
      "metadata": {
        "id": "rpJYm5Z1DP_1"
      },
      "execution_count": null,
      "outputs": []
    },
    {
      "cell_type": "code",
      "source": [
        "# NaN\n",
        "print(X.isna().sum())"
      ],
      "metadata": {
        "colab": {
          "base_uri": "https://localhost:8080/"
        },
        "id": "OQHF9oZOEInQ",
        "outputId": "3b27abef-ada5-49c6-f43c-8f906fad6e90"
      },
      "execution_count": null,
      "outputs": [
        {
          "output_type": "stream",
          "name": "stdout",
          "text": [
            "member_class     0\n",
            "card_type        0\n",
            "define_class     0\n",
            "is_suff          0\n",
            "level            0\n",
            "consume_level    0\n",
            "point            0\n",
            "sex              0\n",
            "age              0\n",
            "Recency          0\n",
            "dtype: int64\n"
          ]
        }
      ]
    },
    {
      "cell_type": "code",
      "source": [
        "from sklearn.model_selection import cross_val_score, StratifiedKFold\n",
        "\n",
        "# 1. División de datos\n",
        "X_train, X_test, y_train, y_test = train_test_split(X, y, test_size=0.3, random_state=42)\n",
        "\n",
        "# 2. Normalización\n",
        "scaler = StandardScaler()\n",
        "X_train_scaled = scaler.fit_transform(X_train)\n",
        "X_test_scaled = scaler.transform(X_test)\n",
        "\n",
        "# 3. Validación cruzada (solo con datos de entrenamiento)\n",
        "log_reg_cv = LogisticRegression(random_state=42)\n",
        "cv_scores = cross_val_score(log_reg_cv, X_train_scaled, y_train, cv=5, scoring='roc_auc')\n",
        "print(f'ROC AUC (CV average): {cv_scores.mean():.4f}')\n",
        "\n",
        "# 4. Entrenamiento final\n",
        "log_reg = LogisticRegression(random_state=42)\n",
        "log_reg.fit(X_train_scaled, y_train)\n",
        "\n",
        "# 5. Predicciones con test\n",
        "y_pred = log_reg.predict(X_test_scaled)\n",
        "y_prob = log_reg.predict_proba(X_test_scaled)[:, 1]\n",
        "\n",
        "# 6. Evaluación final\n",
        "roc_auc = roc_auc_score(y_test, y_prob)\n",
        "accuracy = accuracy_score(y_test, y_pred)\n",
        "\n",
        "print(f'ROC AUC (test): {roc_auc:.4f}')\n",
        "print(f'Accuracy (test): {accuracy:.2f}')\n",
        "print(classification_report(y_test, y_pred))\n"
      ],
      "metadata": {
        "colab": {
          "base_uri": "https://localhost:8080/"
        },
        "id": "VuQuEtL__b4Y",
        "outputId": "c95eb157-c034-4fc1-b412-ac5a3fffa123"
      },
      "execution_count": null,
      "outputs": [
        {
          "output_type": "stream",
          "name": "stdout",
          "text": [
            "ROC AUC (CV average): 0.9882\n",
            "ROC AUC (test): 0.9916\n",
            "Accuracy (test): 0.97\n",
            "              precision    recall  f1-score   support\n",
            "\n",
            "           0       0.91      0.98      0.95       229\n",
            "           1       0.99      0.96      0.98       578\n",
            "\n",
            "    accuracy                           0.97       807\n",
            "   macro avg       0.95      0.97      0.96       807\n",
            "weighted avg       0.97      0.97      0.97       807\n",
            "\n"
          ]
        }
      ]
    },
    {
      "cell_type": "code",
      "source": [
        "import matplotlib.pyplot as plt\n",
        "from sklearn.metrics import roc_curve, roc_auc_score\n",
        "\n",
        "# Calcular la curva ROC\n",
        "fpr, tpr, thresholds = roc_curve(y_test, y_prob)\n",
        "\n",
        "# Calcular el AUC\n",
        "roc_auc = roc_auc_score(y_test, y_prob)\n",
        "\n",
        "# Graficar la curva ROC\n",
        "plt.figure(figsize=(6, 3))\n",
        "plt.plot(fpr, tpr, color='darkorange', lw=2, label=f'ROC (AUC = {roc_auc:.2f})')\n",
        "plt.plot([0, 1], [0, 1], color='navy', lw=2, linestyle='--')  # Línea diagonal (sin discriminación)\n",
        "plt.xlabel('False Positive Rate (FPR)')\n",
        "plt.ylabel('True Positive Rate (TPR)')\n",
        "plt.title('ROC curve')\n",
        "plt.legend(loc='lower right')\n",
        "plt.show()"
      ],
      "metadata": {
        "colab": {
          "base_uri": "https://localhost:8080/",
          "height": 454
        },
        "id": "anfiYUycGPTk",
        "outputId": "25031f5a-3133-4e5a-996b-414652ad2625"
      },
      "execution_count": null,
      "outputs": [
        {
          "output_type": "display_data",
          "data": {
            "text/plain": [
              "<Figure size 1000x600 with 0 Axes>"
            ]
          },
          "metadata": {}
        },
        {
          "output_type": "display_data",
          "data": {
            "text/plain": [
              "<Figure size 1000x600 with 0 Axes>"
            ]
          },
          "metadata": {}
        },
        {
          "output_type": "display_data",
          "data": {
            "text/plain": [
              "<Figure size 1000x600 with 0 Axes>"
            ]
          },
          "metadata": {}
        },
        {
          "output_type": "display_data",
          "data": {
            "text/plain": [
              "<Figure size 1000x600 with 0 Axes>"
            ]
          },
          "metadata": {}
        },
        {
          "output_type": "display_data",
          "data": {
            "text/plain": [
              "<Figure size 1000x600 with 0 Axes>"
            ]
          },
          "metadata": {}
        },
        {
          "output_type": "display_data",
          "data": {
            "text/plain": [
              "<Figure size 1500x1000 with 0 Axes>"
            ]
          },
          "metadata": {}
        },
        {
          "output_type": "display_data",
          "data": {
            "text/plain": [
              "<Figure size 1200x800 with 0 Axes>"
            ]
          },
          "metadata": {}
        },
        {
          "output_type": "display_data",
          "data": {
            "text/plain": [
              "<Figure size 600x300 with 1 Axes>"
            ],
            "image/png": "[encoded data removed]"
          },
          "metadata": {}
        }
      ]
    },
    {
      "cell_type": "code",
      "source": [
        "from sklearn.metrics import precision_recall_curve\n",
        "from sklearn.metrics import average_precision_score\n",
        "\n",
        "# Calcular la curva de precisión-recuperación\n",
        "precision, recall, thresholds_pr = precision_recall_curve(y_test, y_prob)\n",
        "\n",
        "# Calcular el AUC para la curva de precisión-recuperación\n",
        "pr_auc = average_precision_score(y_test, y_prob)\n",
        "\n",
        "# Graficar la curva de precisión-recuperación Area under Curve\n",
        "plt.figure(figsize=(6, 3))\n",
        "plt.plot(recall, precision, color='b', lw=2, label=f'Precision-Recall Curve (AUC = {pr_auc:.2f})')\n",
        "plt.xlabel('Recall')\n",
        "plt.ylabel('Precision')\n",
        "plt.title('Precision-Recall Curve')\n",
        "plt.legend(loc='lower left')\n",
        "plt.show()"
      ],
      "metadata": {
        "colab": {
          "base_uri": "https://localhost:8080/",
          "height": 333
        },
        "id": "MWG5dB1RGfst",
        "outputId": "f9d8547f-f8dc-42f0-b794-98a90630f455"
      },
      "execution_count": null,
      "outputs": [
        {
          "output_type": "display_data",
          "data": {
            "text/plain": [
              "<Figure size 600x300 with 1 Axes>"
            ],
            "image/png": "[encoded data removed]"
          },
          "metadata": {}
        }
      ]
    },
    {
      "cell_type": "markdown",
      "source": [
        "https://machinelearningmastery.com/roc-curves-and-precision-recall-curves-for-classification-in-python/"
      ],
      "metadata": {
        "id": "Mw05N8n0mCN4"
      }
    },
    {
      "cell_type": "markdown",
      "source": [
        "Predicción de la probabilidad de cambio de cluster"
      ],
      "metadata": {
        "id": "bge5CsqTF6ak"
      }
    },
    {
      "cell_type": "code",
      "source": [
        "# Predicción de la probabilidad de cambio de cluster\n",
        "nuevos_datos = X_test_scaled\n",
        "probabilidad_cambio = log_reg.predict_proba(nuevos_datos)[:, 1]\n",
        "\n",
        "print(probabilidad_cambio)"
      ],
      "metadata": {
        "colab": {
          "base_uri": "https://localhost:8080/"
        },
        "id": "xYVWRN9qD66c",
        "outputId": "3140f8e8-b4fe-4de7-b3ae-504329c2df5f",
        "collapsed": true
      },
      "execution_count": null,
      "outputs": [
        {
          "output_type": "stream",
          "name": "stdout",
          "text": [
            "[0.09059652 0.96363959 0.05499389 0.95322461 0.05031154 0.04743476\n",
            " 0.99843337 0.03287681 0.80400139 0.9533825  0.99997248 0.06130121\n",
            " 0.05293737 0.99998198 0.99989886 0.99938925 0.99990515 0.98056353\n",
            " 0.03068355 0.81825905 0.04410617 0.03767721 0.88016    0.99993744\n",
            " 0.99996701 0.51162439 0.03623398 0.99999495 0.99991199 0.9998256\n",
            " 0.02987502 0.38218853 0.99287651 0.32847843 0.0126684  0.96764869\n",
            " 0.99995129 0.19587499 0.99999982 0.99070565 0.99981288 0.12736592\n",
            " 0.99997213 0.99999024 0.99993112 0.99971447 0.04783594 0.97078332\n",
            " 0.99965798 0.04286038 0.99797024 0.99998759 0.99978355 0.037077\n",
            " 0.52797507 0.99520817 0.99899223 0.02667176 0.99972974 0.99912828\n",
            " 0.97943315 0.04437352 0.91835774 0.98455828 0.49414726 0.9986171\n",
            " 0.04876417 0.99849224 0.9999366  0.32799947 0.99998768 0.9951791\n",
            " 0.99965518 0.99969276 0.02344416 0.32376183 0.0391362  0.99999979\n",
            " 0.04644993 0.99994626 0.20079133 0.02047717 0.97089495 0.99934418\n",
            " 0.99968297 0.9999182  0.93090395 0.99985048 0.99997552 0.99969897\n",
            " 0.37568847 0.9992769  0.02731228 0.97856364 0.99427706 0.99986974\n",
            " 0.36114036 0.99668689 0.98071213 0.02181802 0.99990382 0.02757632\n",
            " 0.99985148 0.99999967 0.98890478 0.03787428 0.03051944 0.0173221\n",
            " 0.20922882 0.99061251 0.99902591 0.72885781 0.99974923 0.02295669\n",
            " 0.99204168 0.99994636 0.97992456 0.09762543 0.99965463 0.99998211\n",
            " 0.0295842  0.10972543 0.99999272 0.02625137 0.99999934 0.99997169\n",
            " 0.99940429 0.01523757 0.99998298 0.00943611 0.99934544 0.09447071\n",
            " 0.99972931 0.99447429 0.05784477 0.99998334 0.99790333 0.99814362\n",
            " 0.99999442 0.99486972 0.99932134 0.31124873 0.03659657 0.98592271\n",
            " 0.99992309 0.9275867  0.98731402 0.00918838 0.29321887 0.99178647\n",
            " 1.         0.03132895 0.99936411 0.9999373  0.99963851 0.99999064\n",
            " 0.02395087 0.99997032 0.98482938 0.02632441 0.04781655 0.97467151\n",
            " 0.97233995 0.0253298  0.99877282 0.99844766 0.89549402 0.0165258\n",
            " 0.99999858 0.99997601 0.99492291 0.99969559 0.99997469 0.99693023\n",
            " 0.99999979 0.02981945 0.015152   0.99971637 0.27896938 0.99905301\n",
            " 0.99993274 0.99992955 0.9993207  0.03927195 0.99961431 0.03378533\n",
            " 0.99920678 0.19254855 0.99987051 0.03155277 0.03021513 0.99997514\n",
            " 0.9831934  0.99997856 0.99826472 0.99072914 0.05263172 0.99899829\n",
            " 0.99919666 0.99996166 0.99671496 0.14121156 0.87413607 0.81866024\n",
            " 0.99995546 0.99669987 0.99862187 0.02921136 0.94665097 0.99997406\n",
            " 0.99937998 0.93983059 0.99900599 0.51005386 0.99878219 0.03202696\n",
            " 0.28640467 0.99376965 0.99981693 0.99998971 0.02916204 0.99255891\n",
            " 0.05565971 0.99986521 0.23090958 0.03660605 0.04621812 0.99994268\n",
            " 0.01272429 0.47707692 0.99990564 0.99998112 0.99995387 0.99999087\n",
            " 0.99999898 0.59676079 0.99975456 0.9999258  0.01592177 0.99954949\n",
            " 0.99962018 0.9803288  0.99998857 0.99957593 0.9873024  0.99229843\n",
            " 0.04456397 0.99994813 0.45653361 0.99996611 0.99974283 0.99549515\n",
            " 0.99994863 0.99853307 0.99037976 0.02211877 0.0133959  0.70884439\n",
            " 0.99986339 0.16861976 0.98557671 0.99987774 0.99991088 0.9989301\n",
            " 0.99999271 0.01868619 0.99998313 0.99442011 0.99973597 0.01591406\n",
            " 0.04368867 0.04044272 0.02181612 0.9986181  0.12009531 0.99998509\n",
            " 0.03354128 0.98979072 0.9823208  0.99999687 0.99978677 0.99985918\n",
            " 0.9999143  0.02748565 0.99998062 0.99991447 0.02637322 0.99352628\n",
            " 0.99950975 0.99999487 0.99736834 0.98468636 0.9999572  0.99997191\n",
            " 0.99647858 0.98067805 0.99978414 0.9999965  0.03176926 0.99839194\n",
            " 0.01834629 0.99925841 0.02936942 0.47196283 0.9998275  0.9999408\n",
            " 0.04230196 0.99997655 0.033676   0.99997225 0.99998824 0.19930352\n",
            " 0.32171635 0.99315994 0.99996918 0.99197097 0.02625377 0.99999994\n",
            " 0.49318639 0.91499607 0.0480924  0.99996338 0.04637402 0.99929826\n",
            " 0.76632145 0.05423974 0.99684309 0.99981345 0.99996732 0.99998402\n",
            " 0.99944383 0.08160258 0.03633786 0.99998913 0.03297271 0.05851207\n",
            " 0.99999216 0.99995454 0.03791687 0.99999998 0.99777995 0.35747833\n",
            " 0.99988401 0.87587624 0.99998137 0.99610304 0.99989569 0.99840236\n",
            " 0.95739243 0.02545189 0.99902463 0.99983113 0.05257496 0.03898086\n",
            " 0.9338291  0.99497986 0.41283072 0.99994687 0.99994283 0.05876375\n",
            " 0.04392035 0.02664181 0.98677582 0.25171688 0.99902533 0.98208638\n",
            " 0.97531986 0.01686996 0.99987481 0.02206871 0.01373395 0.99997152\n",
            " 0.16946174 0.25792457 0.1061509  0.02003469 0.99993685 0.98821002\n",
            " 0.99984649 0.99935335 0.99682309 0.15618955 0.99994365 0.99986946\n",
            " 0.99999491 0.99996456 0.99970284 0.99990532 0.04850933 0.99999852\n",
            " 0.9999712  0.83408478 0.9995842  0.02000982 0.99600963 0.99998122\n",
            " 0.03899052 0.05276089 0.99822898 0.03167788 0.98764811 0.90788155\n",
            " 0.99997828 0.32912957 0.95048437 0.02165573 0.57854028 0.99245642\n",
            " 0.98654921 0.99994873 0.99344139 0.99975189 0.01781048 0.21450449\n",
            " 0.97723441 0.99999948 0.03319647 0.06212383 0.01875457 0.95543878\n",
            " 0.99980869 0.99962345 0.99988279 0.97821604 0.97321695 0.02856075\n",
            " 0.04065758 0.99955666 0.95902574 0.99952091 0.04829355 0.99964931\n",
            " 0.99999837 0.05123449 0.05056714 0.9994387  0.97505986 0.99992554\n",
            " 0.95792275 0.2904333  0.02091182 0.98279075 0.07075185 0.99928811\n",
            " 0.99992541 0.99998902 0.9990377  0.80523248 0.99999977 0.99998504\n",
            " 0.96445211 0.99997934 0.99997984 0.9999441  0.99973098 0.99988324\n",
            " 0.99996144 0.99995774 0.99929033 0.99998429 0.9998938  0.99990037\n",
            " 0.9999751  0.62784006 0.01979733 0.99981224 0.99937935 0.04165036\n",
            " 0.0529117  0.99997055 0.03167901 0.03668287 0.03011324 0.99936599\n",
            " 0.99998307 0.9980949  0.9999846  0.99992408 0.93196625 0.03155014\n",
            " 0.02040933 0.99999825 0.01797263 0.99999934 0.99948679 0.9599097\n",
            " 0.99984646 0.02129567 0.01349667 0.99862526 0.03639685 0.04001596\n",
            " 0.99997035 0.02692497 0.99975105 0.03067042 0.99936511 0.89472049\n",
            " 0.03631903 0.99999913 0.03791622 0.2704662  0.99998159 0.03223616\n",
            " 0.98009301 0.99999251 0.98851717 0.99998741 0.99852012 0.97191035\n",
            " 0.99356617 0.04142471 0.99993013 0.99989675 0.99998596 0.99944492\n",
            " 0.55220905 0.99987973 0.99996629 0.99999998 0.0254444  0.99972399\n",
            " 0.01252754 0.10228003 0.99999809 0.99990729 0.99997964 0.99999646\n",
            " 0.99661376 0.20043743 0.01817205 0.99872266 0.99795626 0.39857113\n",
            " 0.99957557 0.96594015 0.99047087 0.99999717 0.93332512 0.99996707\n",
            " 0.9999893  0.99901471 0.9843918  0.97645891 0.99218958 0.99979962\n",
            " 0.99997027 0.9999855  0.80617601 0.99582986 0.99990637 0.99999539\n",
            " 0.87738175 0.99997973 0.99997873 0.9933581  0.03525645 0.98038135\n",
            " 0.99985564 0.99999226 0.48435087 0.99998625 0.99999134 0.99954699\n",
            " 0.99996609 0.99999273 0.99999997 0.99989052 0.04107445 0.98146519\n",
            " 0.97272661 0.99999657 0.99258869 0.99993383 0.01829896 0.9933849\n",
            " 0.03322163 0.01746029 0.99962423 0.99956544 0.99994262 0.04564224\n",
            " 0.9995731  0.99997678 0.36545883 0.02621474 0.17029398 0.93315058\n",
            " 0.1274767  0.99964003 0.99997786 0.99996744 0.98303585 0.99988955\n",
            " 0.01897576 0.98122035 0.99980936 0.05431624 0.03114356 0.98593837\n",
            " 0.99983798 0.99954963 0.02095117 0.9957904  0.0727325  0.99877201\n",
            " 0.01772079 0.99427391 0.99997471 0.99989013 0.99921948 0.01918012\n",
            " 0.04870409 0.99983514 0.97758265 0.99051659 0.99999593 0.99976886\n",
            " 0.993576   0.99997043 0.03665352 0.99996413 0.9998776  0.99999235\n",
            " 0.280524   0.99327923 0.9997693  0.99908788 0.98446549 0.93898769\n",
            " 0.99994057 0.9999869  0.99970127 0.03355114 0.73277289 0.49846319\n",
            " 0.99989208 0.99999795 0.986673   0.98706633 0.96454898 0.99778934\n",
            " 0.98834108 0.0749562  0.09792522 0.02492649 0.99971143 0.9801317\n",
            " 0.99973791 0.96647478 0.20408504 0.02046371 0.99997572 0.94618443\n",
            " 0.99995843 0.99029097 0.99955302 0.99996926 0.03311808 0.99984877\n",
            " 0.99987796 0.47569625 0.99018839 0.99997237 0.3840896  0.84469113\n",
            " 0.99950764 0.99997189 0.03865783 0.21642434 0.57502163 0.92076232\n",
            " 0.99992818 0.99997686 0.75236766 0.76588184 0.99206082 0.03162715\n",
            " 0.99995848 0.9975501  0.05079118 0.99986975 0.99986061 0.99985611\n",
            " 0.99974281 0.9999968  0.02725357 0.02738348 0.98579564 0.96102924\n",
            " 0.98490197 0.9997443  0.02391658 0.02851382 0.04911284 0.08726284\n",
            " 0.40581062 0.99916831 0.99995023 0.98323615 0.99997375 0.02215247\n",
            " 0.04320698 0.03873879 0.99998098 0.99998319 0.98288596 0.07193396\n",
            " 0.98458909 0.73149657 0.06217946 0.99982928 0.02429818 0.99993739\n",
            " 0.98610381 0.99945691 0.99997608 0.99994217 0.99967089 0.99976584\n",
            " 0.98155657 0.02608008 0.99998114 0.0088759  0.99996741 0.99983711\n",
            " 0.33900085 0.99998943 0.99985979 0.99998419 0.99999861 0.11090619\n",
            " 0.08293493 0.01352222 0.02087313 0.9999486  0.03571574 0.99996736\n",
            " 0.99998834 0.03569923 0.99949768 0.99998316 0.97705278 0.99986269\n",
            " 0.59748283 0.93724822 0.04108248 0.99995327 0.99987468 0.99999269\n",
            " 0.03868444 0.99984215 0.99976768 0.9699067  0.03873839 0.99987355\n",
            " 0.99993971 0.99998448 0.00864034 0.97293901 0.99998876 0.99082004\n",
            " 0.99917962 0.99993113 0.97956128 0.98855554 0.99967248 0.04378767\n",
            " 0.99840976 0.95446768 0.03608847 0.99852847 0.99997511 0.16599485\n",
            " 0.99716879 0.99991913 0.99950701 0.02854647 0.97595979 0.99212532\n",
            " 0.9970793  0.99901277 0.99996544 0.99991776 0.99982827 0.99997585\n",
            " 0.84584877 0.99998594 0.04760979 0.02375844 0.99984806 0.37903312\n",
            " 0.99991308 0.99948811 0.56382124 0.99966173 0.99864612 0.99962199\n",
            " 0.99920767 0.0217132  0.99755904 0.99996107 0.8322444  0.9988107\n",
            " 0.99998904 0.03143494 0.99998661]\n"
          ]
        }
      ]
    },
    {
      "cell_type": "code",
      "source": [
        "from sklearn.metrics import confusion_matrix\n",
        "import seaborn as sns\n",
        "\n",
        "# Calcular la matriz de confusión\n",
        "cm = confusion_matrix(y_test, y_pred)\n",
        "\n",
        "# Graficar la matriz de confusión\n",
        "plt.figure(figsize=(6, 5))\n",
        "sns.heatmap(cm, annot=True, fmt='d', cmap='Blues', xticklabels=['0', '1'], yticklabels=['0', '1'])\n",
        "plt.xlabel('Prediction')\n",
        "plt.ylabel('Real')\n",
        "plt.title('Confusion Matrix - Logistic Regression')\n",
        "plt.show()"
      ],
      "metadata": {
        "colab": {
          "base_uri": "https://localhost:8080/",
          "height": 487
        },
        "id": "8qUXxNSfGdKU",
        "outputId": "78ca7e05-2c47-4e21-c748-3b8aa66ab25a"
      },
      "execution_count": null,
      "outputs": [
        {
          "output_type": "display_data",
          "data": {
            "text/plain": [
              "<Figure size 600x500 with 2 Axes>"
            ],
            "image/png": "[encoded data removed]"
          },
          "metadata": {}
        }
      ]
    },
    {
      "cell_type": "code",
      "source": [
        "from sklearn.linear_model import LogisticRegression\n",
        "\n",
        "# Crear un modelo de regresión logística con regularización L2 (Ridge)\n",
        "log_reg_ridge = LogisticRegression(penalty='l2', solver='liblinear', random_state=42)\n",
        "log_reg_ridge.fit(X_train_scaled, y_train)\n",
        "\n",
        "# Evaluar precisión\n",
        "train_accuracy_ridge = log_reg_ridge.score(X_train_scaled, y_train)\n",
        "test_accuracy_ridge = log_reg_ridge.score(X_test_scaled, y_test)\n",
        "\n",
        "print(f'Precisión con regularización L2 (Ridge) en entrenamiento: {train_accuracy_ridge:.4f}')\n",
        "print(f'Precisión con regularización L2 (Ridge) en prueba: {test_accuracy_ridge:.4f}')\n"
      ],
      "metadata": {
        "colab": {
          "base_uri": "https://localhost:8080/"
        },
        "id": "M3sMvoAaHhiE",
        "outputId": "729f9887-477a-49bf-ab22-c4dd842fb388"
      },
      "execution_count": null,
      "outputs": [
        {
          "output_type": "stream",
          "name": "stdout",
          "text": [
            "Precisión con regularización L2 (Ridge) en entrenamiento: 0.9644\n",
            "Precisión con regularización L2 (Ridge) en prueba: 0.9616\n"
          ]
        }
      ]
    },
    {
      "cell_type": "code",
      "source": [
        "from sklearn.model_selection import learning_curve\n",
        "\n",
        "# Calcular la curva de aprendizaje\n",
        "train_sizes, train_scores, test_scores = learning_curve(log_reg, X_train_scaled, y_train, cv=5, scoring='accuracy', n_jobs=-1)\n",
        "\n",
        "# Promediar las puntuaciones de precisión\n",
        "train_mean = train_scores.mean(axis=1)\n",
        "test_mean = test_scores.mean(axis=1)\n",
        "\n",
        "# Graficar la curva de aprendizaje\n",
        "plt.figure(figsize=(6, 3))\n",
        "plt.plot(train_sizes, train_mean, label='train accuracy', color='b')\n",
        "plt.plot(train_sizes, test_mean, label='test accuracy', color='r')\n",
        "plt.xlabel('dataset size')\n",
        "plt.ylabel('Accuracy')\n",
        "plt.title('Learning Curve - Logistic Regression')\n",
        "plt.legend(loc='best')\n",
        "plt.show()"
      ],
      "metadata": {
        "colab": {
          "base_uri": "https://localhost:8080/",
          "height": 333
        },
        "id": "788rdFrEGzHx",
        "outputId": "41657145-ed0e-43cb-e6aa-c29323765829"
      },
      "execution_count": null,
      "outputs": [
        {
          "output_type": "display_data",
          "data": {
            "text/plain": [
              "<Figure size 600x300 with 1 Axes>"
            ],
            "image/png": "[encoded data removed]"
          },
          "metadata": {}
        }
      ]
    },
    {
      "cell_type": "markdown",
      "source": [
        "# Random Forest"
      ],
      "metadata": {
        "id": "nudUkBxaJ95G"
      }
    },
    {
      "cell_type": "code",
      "source": [
        "from sklearn.ensemble import RandomForestClassifier\n",
        "from sklearn.model_selection import cross_val_score\n",
        "from sklearn.metrics import roc_auc_score, accuracy_score, classification_report\n",
        "\n",
        "# Entrenar modelo Random Forest con los datos normalizados\n",
        "rf = RandomForestClassifier(n_estimators=100, random_state=42)\n",
        "\n",
        "# Validación cruzada (5 folds) en el conjunto de entrenamiento\n",
        "cv_scores_rf = cross_val_score(rf, X_train_scaled, y_train, cv=5, scoring='roc_auc')\n",
        "\n",
        "# Imprimir promedio de ROC AUC en CV\n",
        "print(f'ROC AUC (CV average): {cv_scores_rf.mean():.4f}')\n",
        "\n",
        "# Entrenar con todos los datos de entrenamiento\n",
        "rf.fit(X_train_scaled, y_train)\n",
        "\n",
        "# Predicciones\n",
        "y_pred_rf = rf.predict(X_test_scaled)\n",
        "y_prob_rf = rf.predict_proba(X_test_scaled)[:, 1]\n",
        "\n",
        "# Métricas en el conjunto de prueba\n",
        "roc_auc_rf = roc_auc_score(y_test, y_prob_rf)\n",
        "accuracy_rf = accuracy_score(y_test, y_pred_rf)\n",
        "\n",
        "print(f'ROC AUC (test): {roc_auc_rf:.4f}')\n",
        "print(f'Accuracy (test): {accuracy_rf:.2f}')\n",
        "print(classification_report(y_test, y_pred_rf))"
      ],
      "metadata": {
        "colab": {
          "base_uri": "https://localhost:8080/"
        },
        "id": "t0Rg5QCODmMH",
        "outputId": "b663222e-74b1-4862-e475-9e8289216596"
      },
      "execution_count": null,
      "outputs": [
        {
          "output_type": "stream",
          "name": "stdout",
          "text": [
            "ROC AUC (CV average): 0.9976\n",
            "ROC AUC (test): 0.9989\n",
            "Accuracy (test): 0.98\n",
            "              precision    recall  f1-score   support\n",
            "\n",
            "           0       0.97      0.97      0.97       229\n",
            "           1       0.99      0.99      0.99       578\n",
            "\n",
            "    accuracy                           0.98       807\n",
            "   macro avg       0.98      0.98      0.98       807\n",
            "weighted avg       0.98      0.98      0.98       807\n",
            "\n"
          ]
        }
      ]
    },
    {
      "cell_type": "code",
      "source": [
        "# importancia de las características\n",
        "importances = rf.feature_importances_\n",
        "\n",
        "# DataFrame con las importancias\n",
        "importance_df = pd.DataFrame({\n",
        "    'Feature': X.columns,\n",
        "    'Importance': importances\n",
        "})\n",
        "\n",
        "# Ordenar las características por su importancia (de mayor a menor)\n",
        "importance_df = importance_df.sort_values(by='Importance', ascending=False)\n",
        "\n",
        "print(importance_df.head(10))"
      ],
      "metadata": {
        "colab": {
          "base_uri": "https://localhost:8080/"
        },
        "id": "t-yBnSATJvGi",
        "outputId": "0b1dca5c-335c-457a-e28c-38fc65ebb699"
      },
      "execution_count": null,
      "outputs": [
        {
          "output_type": "stream",
          "name": "stdout",
          "text": [
            "         Feature  Importance\n",
            "9        Recency    0.439147\n",
            "4          level    0.267014\n",
            "2   define_class    0.106463\n",
            "6          point    0.077790\n",
            "5  consume_level    0.041738\n",
            "1      card_type    0.024063\n",
            "0   member_class    0.017503\n",
            "8            age    0.016916\n",
            "3        is_suff    0.005394\n",
            "7            sex    0.003973\n"
          ]
        }
      ]
    },
    {
      "cell_type": "code",
      "source": [
        "# Filtrar las 10 características más importantes\n",
        "top_features = importance_df.sort_values(by='Importance', ascending=False).head(10)\n"
      ],
      "metadata": {
        "id": "tfySxMpqL1Z3"
      },
      "execution_count": null,
      "outputs": []
    },
    {
      "cell_type": "code",
      "source": [
        "import matplotlib.pyplot as plt\n",
        "import seaborn as sns\n",
        "\n",
        "plt.figure(figsize=(8, 4))\n",
        "sns.barplot(x='Importance', y='Feature', data=importance_df)\n",
        "plt.title('Features´ Importance - Random Forest')\n",
        "plt.xlabel('Importance')\n",
        "plt.ylabel('Feature')\n",
        "plt.show()"
      ],
      "metadata": {
        "colab": {
          "base_uri": "https://localhost:8080/",
          "height": 411
        },
        "id": "tBmFy7dZJzna",
        "outputId": "607b3b89-1dd6-4d3d-cbbc-71adc6109560"
      },
      "execution_count": null,
      "outputs": [
        {
          "output_type": "display_data",
          "data": {
            "text/plain": [
              "<Figure size 800x400 with 1 Axes>"
            ],
            "image/png": "[encoded data removed]"
          },
          "metadata": {}
        }
      ]
    },
    {
      "cell_type": "code",
      "source": [
        "# Mostrar la matriz de confusión\n",
        "cm = confusion_matrix(y_test, y_pred)\n",
        "sns.heatmap(cm, annot=True, fmt='d', cmap='Blues', xticklabels=['0', '1'], yticklabels=['0', '1'])\n",
        "plt.xlabel('Prediction')\n",
        "plt.ylabel('Real')\n",
        "plt.title('Confusion Matrix - Random Forest')\n",
        "plt.show()"
      ],
      "metadata": {
        "colab": {
          "base_uri": "https://localhost:8080/",
          "height": 472
        },
        "id": "yQK2XUUZJ5ZN",
        "outputId": "4cdcd260-1d28-4582-f826-80b025acd395"
      },
      "execution_count": null,
      "outputs": [
        {
          "output_type": "display_data",
          "data": {
            "text/plain": [
              "<Figure size 640x480 with 2 Axes>"
            ],
            "image/png": "[encoded data removed]"
          },
          "metadata": {}
        }
      ]
    },
    {
      "cell_type": "code",
      "source": [
        "from sklearn.ensemble import RandomForestClassifier\n",
        "from sklearn.model_selection import train_test_split\n",
        "from sklearn.metrics import accuracy_score\n",
        "import matplotlib.pyplot as plt\n",
        "\n",
        "\n",
        "# Variables para almacenar resultados\n",
        "train_accuracy = []\n",
        "test_accuracy = []\n",
        "\n",
        "# Entrenar el modelo con un número creciente de árboles\n",
        "n_estimators_range = range(1, 201, 10)\n",
        "\n",
        "for n_estimators in n_estimators_range:\n",
        "    rf = RandomForestClassifier(n_estimators=n_estimators, random_state=42)\n",
        "    rf.fit(X_train, y_train)\n",
        "\n",
        "    # Predecir y evaluar precisión\n",
        "    train_accuracy.append(accuracy_score(y_train, rf.predict(X_train)))\n",
        "    test_accuracy.append(accuracy_score(y_test, rf.predict(X_test)))\n",
        "\n",
        "# Graficar las curvas de precisión\n",
        "plt.figure(figsize=(8, 4))\n",
        "plt.plot(n_estimators_range, train_accuracy, label='Train Accuracy', color='blue')\n",
        "plt.plot(n_estimators_range, test_accuracy, label='Test Accuracy', color='orange')\n",
        "plt.xlabel('Number of Trees')\n",
        "plt.ylabel('Accuracy')\n",
        "plt.title('Learning Curves - Random Forest')\n",
        "plt.legend()\n",
        "plt.grid(True)\n",
        "plt.show()"
      ],
      "metadata": {
        "colab": {
          "base_uri": "https://localhost:8080/",
          "height": 410
        },
        "id": "GjEf3ahYMjLe",
        "outputId": "097ee14c-7357-4bd3-f621-af024572c611"
      },
      "execution_count": null,
      "outputs": [
        {
          "output_type": "display_data",
          "data": {
            "text/plain": [
              "<Figure size 800x400 with 1 Axes>"
            ],
            "image/png": "[encoded data removed]"
          },
          "metadata": {}
        }
      ]
    },
    {
      "cell_type": "markdown",
      "source": [
        "# Shapley value"
      ],
      "metadata": {
        "id": "cWmcZ2NmNAxb"
      }
    },
    {
      "cell_type": "code",
      "source": [
        "!pip install shap"
      ],
      "metadata": {
        "colab": {
          "base_uri": "https://localhost:8080/"
        },
        "collapsed": true,
        "id": "86sRAnY30fn0",
        "outputId": "d5f73669-14c3-4a11-cd3b-8b69fc92bb46"
      },
      "execution_count": null,
      "outputs": [
        {
          "output_type": "stream",
          "name": "stdout",
          "text": [
            "Requirement already satisfied: shap in /usr/local/lib/python3.11/dist-packages (0.47.2)\n",
            "Requirement already satisfied: numpy in /usr/local/lib/python3.11/dist-packages (from shap) (2.0.2)\n",
            "Requirement already satisfied: scipy in /usr/local/lib/python3.11/dist-packages (from shap) (1.15.3)\n",
            "Requirement already satisfied: scikit-learn in /usr/local/lib/python3.11/dist-packages (from shap) (1.6.1)\n",
            "Requirement already satisfied: pandas in /usr/local/lib/python3.11/dist-packages (from shap) (2.2.2)\n",
            "Requirement already satisfied: tqdm>=4.27.0 in /usr/local/lib/python3.11/dist-packages (from shap) (4.67.1)\n",
            "Requirement already satisfied: packaging>20.9 in /usr/local/lib/python3.11/dist-packages (from shap) (24.2)\n",
            "Requirement already satisfied: slicer==0.0.8 in /usr/local/lib/python3.11/dist-packages (from shap) (0.0.8)\n",
            "Requirement already satisfied: numba>=0.54 in /usr/local/lib/python3.11/dist-packages (from shap) (0.60.0)\n",
            "Requirement already satisfied: cloudpickle in /usr/local/lib/python3.11/dist-packages (from shap) (3.1.1)\n",
            "Requirement already satisfied: typing-extensions in /usr/local/lib/python3.11/dist-packages (from shap) (4.13.2)\n",
            "Requirement already satisfied: llvmlite<0.44,>=0.43.0dev0 in /usr/local/lib/python3.11/dist-packages (from numba>=0.54->shap) (0.43.0)\n",
            "Requirement already satisfied: python-dateutil>=2.8.2 in /usr/local/lib/python3.11/dist-packages (from pandas->shap) (2.9.0.post0)\n",
            "Requirement already satisfied: pytz>=2020.1 in /usr/local/lib/python3.11/dist-packages (from pandas->shap) (2025.2)\n",
            "Requirement already satisfied: tzdata>=2022.7 in /usr/local/lib/python3.11/dist-packages (from pandas->shap) (2025.2)\n",
            "Requirement already satisfied: joblib>=1.2.0 in /usr/local/lib/python3.11/dist-packages (from scikit-learn->shap) (1.5.0)\n",
            "Requirement already satisfied: threadpoolctl>=3.1.0 in /usr/local/lib/python3.11/dist-packages (from scikit-learn->shap) (3.6.0)\n",
            "Requirement already satisfied: six>=1.5 in /usr/local/lib/python3.11/dist-packages (from python-dateutil>=2.8.2->pandas->shap) (1.17.0)\n"
          ]
        }
      ]
    },
    {
      "cell_type": "code",
      "source": [
        "import shap\n",
        "# Continuar desde donde se produjo el error\n",
        "print(\"\\nCalculando valores de Shapley (SHAP values)...\")\n",
        "\n",
        "# Crear un objeto explicador SHAP\n",
        "explainer = shap.TreeExplainer(rf)\n",
        "\n",
        "# Calcular valores SHAP para el conjunto de prueba\n",
        "shap_values = explainer.shap_values(X_test_scaled)\n",
        "\n",
        "# Imprimir información para diagnóstico\n",
        "print(f\"Tipo de shap_values: {type(shap_values)}\")\n",
        "print(f\"Forma de shap_values: {shap_values.shape}\")\n",
        "\n",
        "# Para este formato específico (3000, 10, 2), necesitamos extraer los valores para la clase positiva\n",
        "# Este formato parece ser: [muestras, características, clases]\n",
        "# Extraemos los valores para la clase positiva (índice 1) de todas las muestras y características\n",
        "shap_values_class1 = shap_values[:, :, 1]\n",
        "print(f\"Forma de shap_values para clase positiva: {shap_values_class1.shape}\")\n",
        "\n",
        "# Calcular importancia de características basada en valores SHAP absolutos para la clase positiva\n",
        "shap_importance = np.abs(shap_values_class1).mean(axis=0)\n",
        "print(f\"Forma de shap_importance: {shap_importance.shape}\")\n",
        "\n",
        "# Crear DataFrame con importancias SHAP\n",
        "shap_df = pd.DataFrame({\n",
        "    'Feature': X.columns,\n",
        "    'SHAP Value': shap_importance\n",
        "})\n",
        "\n",
        "# Ordenar por importancia de SHAP\n",
        "shap_df = shap_df.sort_values(by='SHAP Value', ascending=False)\n",
        "print(\"\\nTop 10 características según valores SHAP:\")\n",
        "print(shap_df.head(10))\n",
        "\n",
        "# Visualizar los valores SHAP\n",
        "print(\"\\nGenerando visualizaciones SHAP...\")\n",
        "\n",
        "# Summary plot\n",
        "plt.figure(figsize=(10, 8))\n",
        "shap.summary_plot(shap_values_class1, X_test_scaled, feature_names=X.columns.tolist(), show=False)\n",
        "plt.tight_layout()\n",
        "plt.savefig('shap_summary_plot.png')\n",
        "plt.close()\n",
        "\n",
        "# Dependence plot para la característica más importante según SHAP\n",
        "most_important_feature = shap_df.iloc[0]['Feature']\n",
        "feature_idx = list(X.columns).index(most_important_feature)\n",
        "plt.figure(figsize=(10, 6))\n",
        "shap.dependence_plot(feature_idx, shap_values_class1, X_test_scaled,\n",
        "                    feature_names=X.columns.tolist(), show=False)\n",
        "plt.tight_layout()\n",
        "plt.savefig(f'shap_dependence_plot_{most_important_feature}.png')\n",
        "plt.close()\n",
        "\n",
        "print(f\"\\nVisualizaciones SHAP guardadas. La característica más importante según SHAP es: {most_important_feature}\")\n",
        "\n",
        "# Comparar rankings de importancia\n",
        "print(\"\\nComparación de rankings de importancia:\")\n",
        "comparison_df = pd.merge(importance_df, shap_df, on='Feature')\n",
        "comparison_df = comparison_df.rename(columns={\n",
        "    'Importance': 'Random Forest Importance',\n",
        "    'SHAP Value': 'SHAP Importance'\n",
        "})\n",
        "comparison_df['RF Rank'] = comparison_df['Random Forest Importance'].rank(ascending=False)\n",
        "comparison_df['SHAP Rank'] = comparison_df['SHAP Importance'].rank(ascending=False)\n",
        "comparison_df['Rank Difference'] = abs(comparison_df['RF Rank'] - comparison_df['SHAP Rank'])\n",
        "comparison_df = comparison_df.sort_values(by='SHAP Importance', ascending=False)\n",
        "\n",
        "print(comparison_df.head(10))\n",
        "\n",
        "# Explicación para un ejemplo individual (ej. el primer ejemplo del conjunto de prueba)\n",
        "sample_idx = 0\n",
        "print(f\"\\nExplicación SHAP para el ejemplo #{sample_idx}:\")\n",
        "\n",
        "# Extraer valores SHAP para el ejemplo específico y la clase positiva\n",
        "sample_shap_values = shap_values[sample_idx, :, 1]\n",
        "\n",
        "sample_explanation = pd.DataFrame({\n",
        "    'Feature': X.columns,\n",
        "    'SHAP Value': sample_shap_values\n",
        "})\n",
        "sample_explanation = sample_explanation.sort_values(by='SHAP Value', ascending=False)\n",
        "print(sample_explanation.head(10))\n",
        "\n",
        "# Visualizar la explicación para este ejemplo específico\n",
        "plt.figure(figsize=(10, 6))\n",
        "shap.force_plot(\n",
        "    explainer.expected_value[1],  # Valor base para la clase positiva\n",
        "    sample_shap_values,\n",
        "    X_test_scaled[sample_idx],\n",
        "    feature_names=X.columns.tolist(),\n",
        "    matplotlib=True,\n",
        "    show=False\n",
        ")\n",
        "plt.tight_layout()\n",
        "plt.savefig('shap_force_plot_example.png')\n",
        "plt.close()\n",
        "\n",
        "# Generar SHAP waterfall plot para el ejemplo\n",
        "plt.figure(figsize=(10, 12))\n",
        "shap.plots.waterfall(\n",
        "    shap.Explanation(\n",
        "        values=sample_shap_values,\n",
        "        base_values=explainer.expected_value[1],\n",
        "        data=X_test_scaled[sample_idx],\n",
        "        feature_names=X.columns.tolist()\n",
        "    ),\n",
        "    show=False\n",
        ")\n",
        "plt.tight_layout()\n",
        "plt.savefig('shap_waterfall_plot_example.png')\n",
        "plt.close()\n",
        "\n",
        "print(\"\\nVisualizaciones de explicación individual guardadas.\")\n",
        "\n",
        "# Generar una matriz de dependencia para ver las interacciones entre características\n",
        "plt.figure(figsize=(12, 10))\n",
        "top_features = shap_df['Feature'].head(6).tolist()\n",
        "top_indices = [list(X.columns).index(feat) for feat in top_features]\n",
        "\n",
        "# Crear una matriz de gráficos de dependencia\n",
        "shap.dependence_plot(\n",
        "    top_indices,\n",
        "    shap_values_class1,\n",
        "    X_test_scaled,\n",
        "    feature_names=X.columns.tolist(),\n",
        "    clustering=shap.utils.hclust(X_test_scaled, top_indices),\n",
        "    show=False\n",
        ")\n",
        "plt.tight_layout()\n",
        "plt.savefig('shap_interaction_matrix.png')\n",
        "plt.close()\n",
        "\n",
        "print(\"\\nMatriz de interacción SHAP guardada.\")\n",
        "\n",
        "# Análisis adicional: Compara la importancia entre diferentes grupos\n",
        "if 'sex' in X.columns:\n",
        "    sex_idx = list(X.columns).index('sex')\n",
        "    sex_values = X_test_scaled[:, sex_idx]\n",
        "    unique_groups = np.unique(sex_values)\n",
        "\n",
        "    if len(unique_groups) > 1:\n",
        "        print(\"\\nImportancia de características por grupo (sex):\")\n",
        "        plt.figure(figsize=(12, 8))\n",
        "\n",
        "        for group_val in unique_groups:\n",
        "            # Filtrar índices por grupo\n",
        "            group_indices = np.where(sex_values == group_val)[0]\n",
        "            if len(group_indices) > 0:\n",
        "                # Calcular importancia para este grupo\n",
        "                group_importance = np.abs(shap_values_class1[group_indices]).mean(axis=0)\n",
        "                group_df = pd.DataFrame({\n",
        "                    'Feature': X.columns,\n",
        "                    f'SHAP Value (Group {group_val})': group_importance\n",
        "                })\n",
        "                group_df = group_df.sort_values(by=f'SHAP Value (Group {group_val})', ascending=False)\n",
        "                print(f\"\\nGrupo {group_val}:\")\n",
        "                print(group_df.head(5))\n",
        "\n",
        "        print(\"\\nComparación de importancia completada.\")\n",
        "\n",
        "print(\"\\nAnálisis SHAP completado.\")"
      ],
      "metadata": {
        "colab": {
          "base_uri": "https://localhost:8080/",
          "height": 1000
        },
        "id": "6oiXA0yiBV4F",
        "outputId": "ee1fc5f8-26e7-434f-9a58-e0fee3b74293"
      },
      "execution_count": null,
      "outputs": [
        {
          "output_type": "stream",
          "name": "stdout",
          "text": [
            "\n",
            "Calculando valores de Shapley (SHAP values)...\n",
            "Tipo de shap_values: <class 'numpy.ndarray'>\n",
            "Forma de shap_values: (807, 10, 2)\n",
            "Forma de shap_values para clase positiva: (807, 10)\n",
            "Forma de shap_importance: (10,)\n",
            "\n",
            "Top 10 características según valores SHAP:\n",
            "         Feature  SHAP Value\n",
            "9        Recency    0.196599\n",
            "4          level    0.147573\n",
            "2   define_class    0.093318\n",
            "6          point    0.061147\n",
            "5  consume_level    0.020872\n",
            "0   member_class    0.015501\n",
            "8            age    0.010654\n",
            "1      card_type    0.004137\n",
            "3        is_suff    0.003240\n",
            "7            sex    0.003090\n",
            "\n",
            "Generando visualizaciones SHAP...\n",
            "\n",
            "Visualizaciones SHAP guardadas. La característica más importante según SHAP es: Recency\n",
            "\n",
            "Comparación de rankings de importancia:\n",
            "         Feature  Random Forest Importance  SHAP Importance  RF Rank  \\\n",
            "0        Recency                  0.439147         0.196599      1.0   \n",
            "1          level                  0.267014         0.147573      2.0   \n",
            "2   define_class                  0.106463         0.093318      3.0   \n",
            "3          point                  0.077790         0.061147      4.0   \n",
            "4  consume_level                  0.041738         0.020872      5.0   \n",
            "6   member_class                  0.017503         0.015501      7.0   \n",
            "7            age                  0.016916         0.010654      8.0   \n",
            "5      card_type                  0.024063         0.004137      6.0   \n",
            "8        is_suff                  0.005394         0.003240      9.0   \n",
            "9            sex                  0.003973         0.003090     10.0   \n",
            "\n",
            "   SHAP Rank  Rank Difference  \n",
            "0        1.0              0.0  \n",
            "1        2.0              0.0  \n",
            "2        3.0              0.0  \n",
            "3        4.0              0.0  \n",
            "4        5.0              0.0  \n",
            "6        6.0              1.0  \n",
            "7        7.0              1.0  \n",
            "5        8.0              2.0  \n",
            "8        9.0              0.0  \n",
            "9       10.0              0.0  \n",
            "\n",
            "Explicación SHAP para el ejemplo #0:\n",
            "         Feature  SHAP Value\n",
            "9        Recency    0.195427\n",
            "4          level    0.151767\n",
            "8            age    0.008790\n",
            "3        is_suff    0.002683\n",
            "1      card_type    0.002060\n",
            "7            sex   -0.004622\n",
            "0   member_class   -0.016659\n",
            "5  consume_level   -0.020320\n",
            "6          point   -0.059090\n",
            "2   define_class   -0.091111\n",
            "\n",
            "Visualizaciones de explicación individual guardadas.\n"
          ]
        },
        {
          "output_type": "error",
          "ename": "ValueError",
          "evalue": "Found input variables with inconsistent numbers of samples: [807, 6]",
          "traceback": [
            "\u001b[0;31m---------------------------------------------------------------------------\u001b[0m",
            "\u001b[0;31mValueError\u001b[0m                                Traceback (most recent call last)",
            "\u001b[0;32m<ipython-input-53-2c0632f3e782>\u001b[0m in \u001b[0;36m<cell line: 0>\u001b[0;34m()\u001b[0m\n\u001b[1;32m    126\u001b[0m     \u001b[0mX_test_scaled\u001b[0m\u001b[0;34m,\u001b[0m\u001b[0;34m\u001b[0m\u001b[0;34m\u001b[0m\u001b[0m\n\u001b[1;32m    127\u001b[0m     \u001b[0mfeature_names\u001b[0m\u001b[0;34m=\u001b[0m\u001b[0mX\u001b[0m\u001b[0;34m.\u001b[0m\u001b[0mcolumns\u001b[0m\u001b[0;34m.\u001b[0m\u001b[0mtolist\u001b[0m\u001b[0;34m(\u001b[0m\u001b[0;34m)\u001b[0m\u001b[0;34m,\u001b[0m\u001b[0;34m\u001b[0m\u001b[0;34m\u001b[0m\u001b[0m\n\u001b[0;32m--> 128\u001b[0;31m     \u001b[0mclustering\u001b[0m\u001b[0;34m=\u001b[0m\u001b[0mshap\u001b[0m\u001b[0;34m.\u001b[0m\u001b[0mutils\u001b[0m\u001b[0;34m.\u001b[0m\u001b[0mhclust\u001b[0m\u001b[0;34m(\u001b[0m\u001b[0mX_test_scaled\u001b[0m\u001b[0;34m,\u001b[0m \u001b[0mtop_indices\u001b[0m\u001b[0;34m)\u001b[0m\u001b[0;34m,\u001b[0m\u001b[0;34m\u001b[0m\u001b[0;34m\u001b[0m\u001b[0m\n\u001b[0m\u001b[1;32m    129\u001b[0m     \u001b[0mshow\u001b[0m\u001b[0;34m=\u001b[0m\u001b[0;32mFalse\u001b[0m\u001b[0;34m\u001b[0m\u001b[0;34m\u001b[0m\u001b[0m\n\u001b[1;32m    130\u001b[0m )\n",
            "\u001b[0;32m/usr/local/lib/python3.11/dist-packages/shap/utils/_clustering.py\u001b[0m in \u001b[0;36mhclust\u001b[0;34m(X, y, linkage, metric, random_state)\u001b[0m\n\u001b[1;32m    256\u001b[0m     \u001b[0;31m# build the distance matrix\u001b[0m\u001b[0;34m\u001b[0m\u001b[0;34m\u001b[0m\u001b[0m\n\u001b[1;32m    257\u001b[0m     \u001b[0;32mif\u001b[0m \u001b[0mmetric\u001b[0m \u001b[0;34m==\u001b[0m \u001b[0;34m\"xgboost_distances_r2\"\u001b[0m\u001b[0;34m:\u001b[0m\u001b[0;34m\u001b[0m\u001b[0;34m\u001b[0m\u001b[0m\n\u001b[0;32m--> 258\u001b[0;31m         \u001b[0mdist_full\u001b[0m\u001b[0;34m:\u001b[0m \u001b[0mnp\u001b[0m\u001b[0;34m.\u001b[0m\u001b[0mndarray\u001b[0m \u001b[0;34m=\u001b[0m \u001b[0mxgboost_distances_r2\u001b[0m\u001b[0;34m(\u001b[0m\u001b[0mX_arr\u001b[0m\u001b[0;34m,\u001b[0m \u001b[0my\u001b[0m\u001b[0;34m,\u001b[0m \u001b[0mrandom_state\u001b[0m\u001b[0;34m=\u001b[0m\u001b[0mrandom_state\u001b[0m\u001b[0;34m)\u001b[0m\u001b[0;34m\u001b[0m\u001b[0;34m\u001b[0m\u001b[0m\n\u001b[0m\u001b[1;32m    259\u001b[0m \u001b[0;34m\u001b[0m\u001b[0m\n\u001b[1;32m    260\u001b[0m         \u001b[0;31m# build a condensed upper triangular version by taking the max distance from either direction\u001b[0m\u001b[0;34m\u001b[0m\u001b[0;34m\u001b[0m\u001b[0m\n",
            "\u001b[0;32m/usr/local/lib/python3.11/dist-packages/shap/utils/_clustering.py\u001b[0m in \u001b[0;36mxgboost_distances_r2\u001b[0;34m(X, y, learning_rate, early_stopping_rounds, subsample, max_estimators, random_state)\u001b[0m\n\u001b[1;32m    136\u001b[0m \u001b[0;34m\u001b[0m\u001b[0m\n\u001b[1;32m    137\u001b[0m     \u001b[0;31m# pick our train/text split\u001b[0m\u001b[0;34m\u001b[0m\u001b[0;34m\u001b[0m\u001b[0m\n\u001b[0;32m--> 138\u001b[0;31m     \u001b[0mX_train\u001b[0m\u001b[0;34m,\u001b[0m \u001b[0mX_test\u001b[0m\u001b[0;34m,\u001b[0m \u001b[0my_train\u001b[0m\u001b[0;34m,\u001b[0m \u001b[0my_test\u001b[0m \u001b[0;34m=\u001b[0m \u001b[0msklearn\u001b[0m\u001b[0;34m.\u001b[0m\u001b[0mmodel_selection\u001b[0m\u001b[0;34m.\u001b[0m\u001b[0mtrain_test_split\u001b[0m\u001b[0;34m(\u001b[0m\u001b[0mX\u001b[0m\u001b[0;34m,\u001b[0m \u001b[0my\u001b[0m\u001b[0;34m,\u001b[0m \u001b[0mrandom_state\u001b[0m\u001b[0;34m=\u001b[0m\u001b[0mrandom_state\u001b[0m\u001b[0;34m)\u001b[0m\u001b[0;34m\u001b[0m\u001b[0;34m\u001b[0m\u001b[0m\n\u001b[0m\u001b[1;32m    139\u001b[0m \u001b[0;34m\u001b[0m\u001b[0m\n\u001b[1;32m    140\u001b[0m     \u001b[0;31m# fit an XGBoost model on each of the features\u001b[0m\u001b[0;34m\u001b[0m\u001b[0;34m\u001b[0m\u001b[0m\n",
            "\u001b[0;32m/usr/local/lib/python3.11/dist-packages/sklearn/utils/_param_validation.py\u001b[0m in \u001b[0;36mwrapper\u001b[0;34m(*args, **kwargs)\u001b[0m\n\u001b[1;32m    214\u001b[0m                     )\n\u001b[1;32m    215\u001b[0m                 ):\n\u001b[0;32m--> 216\u001b[0;31m                     \u001b[0;32mreturn\u001b[0m \u001b[0mfunc\u001b[0m\u001b[0;34m(\u001b[0m\u001b[0;34m*\u001b[0m\u001b[0margs\u001b[0m\u001b[0;34m,\u001b[0m \u001b[0;34m**\u001b[0m\u001b[0mkwargs\u001b[0m\u001b[0;34m)\u001b[0m\u001b[0;34m\u001b[0m\u001b[0;34m\u001b[0m\u001b[0m\n\u001b[0m\u001b[1;32m    217\u001b[0m             \u001b[0;32mexcept\u001b[0m \u001b[0mInvalidParameterError\u001b[0m \u001b[0;32mas\u001b[0m \u001b[0me\u001b[0m\u001b[0;34m:\u001b[0m\u001b[0;34m\u001b[0m\u001b[0;34m\u001b[0m\u001b[0m\n\u001b[1;32m    218\u001b[0m                 \u001b[0;31m# When the function is just a wrapper around an estimator, we allow\u001b[0m\u001b[0;34m\u001b[0m\u001b[0;34m\u001b[0m\u001b[0m\n",
            "\u001b[0;32m/usr/local/lib/python3.11/dist-packages/sklearn/model_selection/_split.py\u001b[0m in \u001b[0;36mtrain_test_split\u001b[0;34m(test_size, train_size, random_state, shuffle, stratify, *arrays)\u001b[0m\n\u001b[1;32m   2846\u001b[0m         \u001b[0;32mraise\u001b[0m \u001b[0mValueError\u001b[0m\u001b[0;34m(\u001b[0m\u001b[0;34m\"At least one array required as input\"\u001b[0m\u001b[0;34m)\u001b[0m\u001b[0;34m\u001b[0m\u001b[0;34m\u001b[0m\u001b[0m\n\u001b[1;32m   2847\u001b[0m \u001b[0;34m\u001b[0m\u001b[0m\n\u001b[0;32m-> 2848\u001b[0;31m     \u001b[0marrays\u001b[0m \u001b[0;34m=\u001b[0m \u001b[0mindexable\u001b[0m\u001b[0;34m(\u001b[0m\u001b[0;34m*\u001b[0m\u001b[0marrays\u001b[0m\u001b[0;34m)\u001b[0m\u001b[0;34m\u001b[0m\u001b[0;34m\u001b[0m\u001b[0m\n\u001b[0m\u001b[1;32m   2849\u001b[0m \u001b[0;34m\u001b[0m\u001b[0m\n\u001b[1;32m   2850\u001b[0m     \u001b[0mn_samples\u001b[0m \u001b[0;34m=\u001b[0m \u001b[0m_num_samples\u001b[0m\u001b[0;34m(\u001b[0m\u001b[0marrays\u001b[0m\u001b[0;34m[\u001b[0m\u001b[0;36m0\u001b[0m\u001b[0;34m]\u001b[0m\u001b[0;34m)\u001b[0m\u001b[0;34m\u001b[0m\u001b[0;34m\u001b[0m\u001b[0m\n",
            "\u001b[0;32m/usr/local/lib/python3.11/dist-packages/sklearn/utils/validation.py\u001b[0m in \u001b[0;36mindexable\u001b[0;34m(*iterables)\u001b[0m\n\u001b[1;32m    530\u001b[0m \u001b[0;34m\u001b[0m\u001b[0m\n\u001b[1;32m    531\u001b[0m     \u001b[0mresult\u001b[0m \u001b[0;34m=\u001b[0m \u001b[0;34m[\u001b[0m\u001b[0m_make_indexable\u001b[0m\u001b[0;34m(\u001b[0m\u001b[0mX\u001b[0m\u001b[0;34m)\u001b[0m \u001b[0;32mfor\u001b[0m \u001b[0mX\u001b[0m \u001b[0;32min\u001b[0m \u001b[0miterables\u001b[0m\u001b[0;34m]\u001b[0m\u001b[0;34m\u001b[0m\u001b[0;34m\u001b[0m\u001b[0m\n\u001b[0;32m--> 532\u001b[0;31m     \u001b[0mcheck_consistent_length\u001b[0m\u001b[0;34m(\u001b[0m\u001b[0;34m*\u001b[0m\u001b[0mresult\u001b[0m\u001b[0;34m)\u001b[0m\u001b[0;34m\u001b[0m\u001b[0;34m\u001b[0m\u001b[0m\n\u001b[0m\u001b[1;32m    533\u001b[0m     \u001b[0;32mreturn\u001b[0m \u001b[0mresult\u001b[0m\u001b[0;34m\u001b[0m\u001b[0;34m\u001b[0m\u001b[0m\n\u001b[1;32m    534\u001b[0m \u001b[0;34m\u001b[0m\u001b[0m\n",
            "\u001b[0;32m/usr/local/lib/python3.11/dist-packages/sklearn/utils/validation.py\u001b[0m in \u001b[0;36mcheck_consistent_length\u001b[0;34m(*arrays)\u001b[0m\n\u001b[1;32m    473\u001b[0m     \u001b[0muniques\u001b[0m \u001b[0;34m=\u001b[0m \u001b[0mnp\u001b[0m\u001b[0;34m.\u001b[0m\u001b[0munique\u001b[0m\u001b[0;34m(\u001b[0m\u001b[0mlengths\u001b[0m\u001b[0;34m)\u001b[0m\u001b[0;34m\u001b[0m\u001b[0;34m\u001b[0m\u001b[0m\n\u001b[1;32m    474\u001b[0m     \u001b[0;32mif\u001b[0m \u001b[0mlen\u001b[0m\u001b[0;34m(\u001b[0m\u001b[0muniques\u001b[0m\u001b[0;34m)\u001b[0m \u001b[0;34m>\u001b[0m \u001b[0;36m1\u001b[0m\u001b[0;34m:\u001b[0m\u001b[0;34m\u001b[0m\u001b[0;34m\u001b[0m\u001b[0m\n\u001b[0;32m--> 475\u001b[0;31m         raise ValueError(\n\u001b[0m\u001b[1;32m    476\u001b[0m             \u001b[0;34m\"Found input variables with inconsistent numbers of samples: %r\"\u001b[0m\u001b[0;34m\u001b[0m\u001b[0;34m\u001b[0m\u001b[0m\n\u001b[1;32m    477\u001b[0m             \u001b[0;34m%\u001b[0m \u001b[0;34m[\u001b[0m\u001b[0mint\u001b[0m\u001b[0;34m(\u001b[0m\u001b[0ml\u001b[0m\u001b[0;34m)\u001b[0m \u001b[0;32mfor\u001b[0m \u001b[0ml\u001b[0m \u001b[0;32min\u001b[0m \u001b[0mlengths\u001b[0m\u001b[0;34m]\u001b[0m\u001b[0;34m\u001b[0m\u001b[0;34m\u001b[0m\u001b[0m\n",
            "\u001b[0;31mValueError\u001b[0m: Found input variables with inconsistent numbers of samples: [807, 6]"
          ]
        }
      ]
    },
    {
      "cell_type": "code",
      "source": [
        "# Continuar desde donde se produjo el error\n",
        "# El código anterior funcionó bien hasta la parte de la matriz de dependencia\n",
        "\n",
        "# Análisis de valores SHAP - versión final corregida\n",
        "print(\"\\nGenerando visualizaciones adicionales de SHAP...\")\n",
        "\n",
        "# Visualizar dependencias individuales para las características más importantes\n",
        "print(\"Generando gráficos de dependencia individuales...\")\n",
        "top_features = shap_df['Feature'].head(5).tolist()\n",
        "\n",
        "for feature in top_features:\n",
        "    feature_idx = list(X.columns).index(feature)\n",
        "    plt.figure(figsize=(10, 6))\n",
        "    shap.dependence_plot(\n",
        "        feature_idx,\n",
        "        shap_values_class1,\n",
        "        X_test_scaled,\n",
        "        feature_names=X.columns.tolist(),\n",
        "        show=False\n",
        "    )\n",
        "    plt.title(f'SHAP Dependence Plot: {feature}')\n",
        "    plt.tight_layout()\n",
        "    plt.savefig(f'shap_dependence_{feature}.png')\n",
        "    plt.close()\n",
        "\n",
        "# Generar un SHAP Decision Plot para varios ejemplos\n",
        "print(\"Generando gráfico de decisión SHAP...\")\n",
        "# Tomar una muestra pequeña de ejemplos para el gráfico de decisión\n",
        "sample_size = min(20, len(X_test_scaled))\n",
        "sample_indices = np.random.choice(len(X_test_scaled), sample_size, replace=False)\n",
        "\n",
        "plt.figure(figsize=(12, 8))\n",
        "try:\n",
        "    shap.decision_plot(\n",
        "        explainer.expected_value[1],  # Valor base para la clase positiva\n",
        "        shap_values_class1[sample_indices],\n",
        "        X_test_scaled[sample_indices],\n",
        "        feature_names=X.columns.tolist(),\n",
        "        show=False\n",
        "    )\n",
        "    plt.tight_layout()\n",
        "    plt.savefig('shap_decision_plot.png')\n",
        "except Exception as e:\n",
        "    print(f\"Error al generar el gráfico de decisión: {e}\")\n",
        "plt.close()\n",
        "\n",
        "# Crear un heatmap personalizado de las importancias SHAP\n",
        "print(\"Creando heatmap de importancias SHAP...\")\n",
        "import seaborn as sns\n",
        "\n",
        "plt.figure(figsize=(12, 10))\n",
        "# Seleccionar un subconjunto de ejemplos para mejorar la legibilidad\n",
        "n_samples = min(50, shap_values_class1.shape[0])\n",
        "sample_idx = np.random.choice(shap_values_class1.shape[0], n_samples, replace=False)\n",
        "\n",
        "# Ordenar características por importancia SHAP\n",
        "features_by_importance = shap_df['Feature'].tolist()\n",
        "feature_indices = [list(X.columns).index(feat) for feat in features_by_importance]\n",
        "\n",
        "# Crear una matriz de valores SHAP para el heatmap\n",
        "heatmap_data = shap_values_class1[sample_idx][:, feature_indices]\n",
        "\n",
        "# Crear el heatmap\n",
        "sns.heatmap(\n",
        "    heatmap_data,\n",
        "    cmap='RdBu_r',\n",
        "    center=0,\n",
        "    yticklabels=False,\n",
        "    xticklabels=[features_by_importance[i] for i in range(len(feature_indices))],\n",
        "    cbar_kws={'label': 'SHAP Value'}\n",
        ")\n",
        "plt.title('SHAP Values Heatmap (sample of instances)')\n",
        "plt.tight_layout()\n",
        "plt.savefig('shap_heatmap.png')\n",
        "plt.close()\n",
        "\n",
        "# Análisis adicional: distribución de valores SHAP por característica\n",
        "print(\"Analizando distribución de valores SHAP...\")\n",
        "plt.figure(figsize=(15, 10))\n",
        "\n",
        "# Crear subplots para las características más importantes\n",
        "top_n = min(6, len(features_by_importance))\n",
        "fig, axes = plt.subplots(nrows=(top_n+1)//2, ncols=2, figsize=(15, 10))\n",
        "axes = axes.flatten()\n",
        "\n",
        "for i, feature in enumerate(features_by_importance[:top_n]):\n",
        "    feature_idx = list(X.columns).index(feature)\n",
        "    # Obtener valores SHAP para esta característica\n",
        "    feature_shap_values = shap_values_class1[:, feature_idx]\n",
        "\n",
        "    # Crear histograma/KDE de valores SHAP\n",
        "    sns.histplot(feature_shap_values, kde=True, ax=axes[i])\n",
        "    axes[i].set_title(f'Distribución de valores SHAP: {feature}')\n",
        "    axes[i].set_xlabel('SHAP Value')\n",
        "    axes[i].set_ylabel('Frecuencia')\n",
        "\n",
        "# Ajustar layout\n",
        "plt.tight_layout()\n",
        "plt.savefig('shap_distributions.png')\n",
        "plt.close()\n",
        "\n",
        "# Crear un gráfico de barras para comparar importancias RF vs SHAP\n",
        "print(\"Comparando importancias RF vs SHAP...\")\n",
        "plt.figure(figsize=(12, 8))\n",
        "\n",
        "# Crear un DataFrame para la comparación\n",
        "comparison_data = comparison_df.sort_values(by='SHAP Importance', ascending=True).tail(10)\n",
        "\n",
        "# Gráfico de barras\n",
        "comparison_data.plot(\n",
        "    x='Feature',\n",
        "    y=['Random Forest Importance', 'SHAP Importance'],\n",
        "    kind='barh',\n",
        "    figsize=(12, 8)\n",
        ")\n",
        "plt.title('Comparación de importancias: Random Forest vs SHAP')\n",
        "plt.xlabel('Importancia')\n",
        "plt.tight_layout()\n",
        "plt.savefig('importance_comparison.png')\n",
        "plt.close()\n",
        "\n",
        "# Analizar la relación entre valores de características y valores SHAP\n",
        "print(\"Analizando relación entre valores de características y valores SHAP...\")\n",
        "most_important_feature = shap_df.iloc[0]['Feature']\n",
        "most_important_idx = list(X.columns).index(most_important_feature)\n",
        "\n",
        "plt.figure(figsize=(10, 6))\n",
        "# Crear un scatter plot: valor de característica vs valor SHAP\n",
        "plt.scatter(\n",
        "    X_test_scaled[:, most_important_idx],\n",
        "    shap_values_class1[:, most_important_idx],\n",
        "    alpha=0.5\n",
        ")\n",
        "plt.title(f'Relación entre valores de {most_important_feature} y sus valores SHAP')\n",
        "plt.xlabel(f'Valor de {most_important_feature} (escalado)')\n",
        "plt.ylabel('Valor SHAP')\n",
        "plt.grid(True, linestyle='--', alpha=0.7)\n",
        "plt.tight_layout()\n",
        "plt.savefig(f'shap_feature_relationship_{most_important_feature}.png')\n",
        "plt.close()\n",
        "\n",
        "# Resumen final: guardar las importancias en un archivo CSV\n",
        "print(\"\\nGuardando resultados en archivos CSV...\")\n",
        "\n",
        "# Guardar importancias comparativas\n",
        "comparison_df.to_csv('feature_importance_comparison.csv', index=False)\n",
        "\n",
        "# Guardar valores SHAP para todos los ejemplos (puede ser un archivo grande)\n",
        "shap_values_df = pd.DataFrame(\n",
        "    shap_values_class1,\n",
        "    columns=X.columns\n",
        ")\n",
        "# Añadir la predicción y la clase real si están disponibles\n",
        "shap_values_df['predicted_probability'] = y_prob\n",
        "shap_values_df['predicted_class'] = y_pred\n",
        "shap_values_df['actual_class'] = y_test.reset_index(drop=True)\n",
        "shap_values_df.to_csv('all_shap_values.csv', index=False)\n",
        "\n",
        "print(\"\\nAnálisis SHAP completado. Se han generado múltiples visualizaciones y archivos CSV.\")\n",
        "\n",
        "# Mostrar un resumen de los hallazgos clave\n",
        "print(\"\\nHallazgos clave del análisis SHAP:\")\n",
        "print(f\"1. La característica más importante según SHAP es: {shap_df.iloc[0]['Feature']}\")\n",
        "print(f\"2. La característica más importante según Random Forest es: {importance_df.iloc[0]['Feature']}\")\n",
        "\n",
        "# Identificar características donde hay mayor discrepancia entre RF y SHAP\n",
        "discrepancy_df = comparison_df.sort_values(by='Rank Difference', ascending=False)\n",
        "if not discrepancy_df.empty and discrepancy_df.iloc[0]['Rank Difference'] > 0:\n",
        "    print(f\"3. Mayor discrepancia entre RF y SHAP: {discrepancy_df.iloc[0]['Feature']} (diferencia de {discrepancy_df.iloc[0]['Rank Difference']} posiciones)\")\n",
        "\n",
        "# Imprimir conclusión\n",
        "print(\"\\nLos valores Shapley proporcionan una interpretación más detallada del modelo, mostrando\")\n",
        "print(\"cómo cada característica contribuye a las predicciones individuales, a diferencia de la\")\n",
        "print(\"importancia global de características de Random Forest.\")"
      ],
      "metadata": {
        "id": "8wu-3GOgDQBt",
        "colab": {
          "base_uri": "https://localhost:8080/"
        },
        "outputId": "4afa00bd-fb85-46bc-bc8f-394baa6f844c"
      },
      "execution_count": null,
      "outputs": [
        {
          "output_type": "stream",
          "name": "stdout",
          "text": [
            "\n",
            "Generando visualizaciones adicionales de SHAP...\n",
            "Generando gráficos de dependencia individuales...\n",
            "Generando gráfico de decisión SHAP...\n",
            "Creando heatmap de importancias SHAP...\n",
            "Analizando distribución de valores SHAP...\n",
            "Comparando importancias RF vs SHAP...\n",
            "Analizando relación entre valores de características y valores SHAP...\n",
            "\n",
            "Guardando resultados en archivos CSV...\n",
            "\n",
            "Análisis SHAP completado. Se han generado múltiples visualizaciones y archivos CSV.\n",
            "\n",
            "Hallazgos clave del análisis SHAP:\n",
            "1. La característica más importante según SHAP es: Recency\n",
            "2. La característica más importante según Random Forest es: Recency\n",
            "3. Mayor discrepancia entre RF y SHAP: card_type (diferencia de 2.0 posiciones)\n",
            "\n",
            "Los valores Shapley proporcionan una interpretación más detallada del modelo, mostrando\n",
            "cómo cada característica contribuye a las predicciones individuales, a diferencia de la\n",
            "importancia global de características de Random Forest.\n"
          ]
        }
      ]
    },
    {
      "cell_type": "markdown",
      "source": [
        "---------------------"
      ],
      "metadata": {
        "id": "ywmqLLji_osV"
      }
    }
  ]
}