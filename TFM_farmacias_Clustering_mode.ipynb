{
  "nbformat": 4,
  "nbformat_minor": 0,
  "metadata": {
    "colab": {
      "provenance": [],
      "mount_file_id": "1ac7FXIfVNPFKe2fZ_K7CPrGMUSuOz9Qi",
      "authorship_tag": "ABX9TyO+glCrA0xVNtzRh8GfJK3G",
      "include_colab_link": true
    },
    "kernelspec": {
      "name": "python3",
      "display_name": "Python 3"
    },
    "language_info": {
      "name": "python"
    }
  },
  "cells": [
    {
      "cell_type": "markdown",
      "metadata": {
        "id": "view-in-github",
        "colab_type": "text"
      },
      "source": [
        "<a href=\"https://colab.research.google.com/github/OksanaBut77/TFM/blob/main/TFM_farmacias_Clustering_mode.ipynb\" target=\"_parent\"><img src=\"https://colab.research.google.com/assets/colab-badge.svg\" alt=\"Open In Colab\"/></a>"
      ]
    },
    {
      "cell_type": "code",
      "execution_count": 14,
      "metadata": {
        "id": "inLlX6eG5U9e"
      },
      "outputs": [],
      "source": [
        "import pandas as pd\n",
        "import numpy as np\n",
        "import matplotlib.pyplot as plt\n",
        "import seaborn as sns\n",
        "from sklearn.cluster import KMeans\n",
        "from sklearn.preprocessing import StandardScaler\n",
        "from datetime import datetime\n",
        "import plotly.express as px\n",
        "import plotly.graph_objects as go\n",
        "from plotly.subplots import make_subplots\n",
        "import warnings\n",
        "warnings.filterwarnings('ignore')\n",
        "\n",
        "plt.style.use('ggplot')\n",
        "sns.set(style=\"whitegrid\")"
      ]
    },
    {
      "cell_type": "code",
      "execution_count": 36,
      "metadata": {
        "colab": {
          "base_uri": "https://localhost:8080/"
        },
        "id": "qYdHHOQmyBzi",
        "outputId": "434531b4-57f7-471c-f6b2-4654366d598b",
        "collapsed": true
      },
      "outputs": [
        {
          "output_type": "stream",
          "name": "stdout",
          "text": [
            "   depart_id  card_id  member_class    last_consume_time  card_type  \\\n",
            "0     270297  1936560          3407                  NaN          0   \n",
            "1     270297  3208730          1515  2020-01-22 09:18:15          0   \n",
            "2     270155  4053650          1700  2021-11-13 09:57:18          0   \n",
            "3     270155  4053950          1672  2021-12-05 18:49:25          0   \n",
            "4     270297  4133810          3407                  NaN          0   \n",
            "\n",
            "   define_class  is_suff  level    birthday  consume_level  point  \\\n",
            "0           170        0      2  1968-12-01              1    0.0   \n",
            "1           426        0      2  1954-07-24              1    0.0   \n",
            "2           578        0      3  2016-09-02              1    0.0   \n",
            "3           287        0      3  1951-09-13              1    0.0   \n",
            "4           170        0      2  2015-12-28              1    0.0   \n",
            "\n",
            "            updatetime  sex   age  Recency  \n",
            "0  2021-09-13 06:18:05  0.0  53.0      NaN  \n",
            "1  2021-09-13 06:18:05  0.0  67.0    599.0  \n",
            "2  2021-11-28 05:31:55  1.0   5.0     14.0  \n",
            "3  2021-12-14 05:57:15  1.0  70.0      8.0  \n",
            "4  2021-09-13 06:18:05  0.0   5.0      NaN  \n"
          ]
        }
      ],
      "source": [
        "df_member = pd.read_csv('/content/drive/MyDrive/TFM/df_member_base.csv')\n",
        "print(df_member.head(5))"
      ]
    },
    {
      "cell_type": "code",
      "execution_count": 37,
      "metadata": {
        "colab": {
          "base_uri": "https://localhost:8080/"
        },
        "id": "-U4pBz7F-s4F",
        "outputId": "a8c0424b-218c-4cae-eefd-2b5d2edd611c"
      },
      "outputs": [
        {
          "output_type": "stream",
          "name": "stdout",
          "text": [
            "(10000, 15)\n"
          ]
        }
      ],
      "source": [
        "print(df_member.shape)"
      ]
    },
    {
      "cell_type": "code",
      "source": [
        "print(\"\\nValores nulos por columna:\")\n",
        "print(df_member.isnull().sum())"
      ],
      "metadata": {
        "colab": {
          "base_uri": "https://localhost:8080/"
        },
        "id": "elvs1OqFJjXY",
        "outputId": "55a2c030-aafa-4f2a-a578-2d85604152d2",
        "collapsed": true
      },
      "execution_count": 38,
      "outputs": [
        {
          "output_type": "stream",
          "name": "stdout",
          "text": [
            "\n",
            "Valores nulos por columna:\n",
            "depart_id               0\n",
            "card_id                 0\n",
            "member_class            0\n",
            "last_consume_time    5786\n",
            "card_type               0\n",
            "define_class            0\n",
            "is_suff                 0\n",
            "level                   0\n",
            "birthday                6\n",
            "consume_level           0\n",
            "point                   0\n",
            "updatetime              0\n",
            "sex                  3249\n",
            "age                     6\n",
            "Recency              5786\n",
            "dtype: int64\n"
          ]
        }
      ]
    },
    {
      "cell_type": "code",
      "source": [
        "# Recorremos cada columna y rellenamos los nulos con la moda\n",
        "for col in df_member.columns:\n",
        "    moda = df_member[col].mode()\n",
        "    if not moda.empty:  # comprobamos que exista una moda\n",
        "        df_member[col] = df_member[col].fillna(moda[0])"
      ],
      "metadata": {
        "id": "MslV7PaBxd-1"
      },
      "execution_count": 39,
      "outputs": []
    },
    {
      "cell_type": "code",
      "source": [
        "print(df_member.isnull().sum())"
      ],
      "metadata": {
        "colab": {
          "base_uri": "https://localhost:8080/"
        },
        "id": "IfT1pA0O-Ug7",
        "outputId": "2766b848-8d6c-4f33-aec2-f2198ca7dfcd"
      },
      "execution_count": 40,
      "outputs": [
        {
          "output_type": "stream",
          "name": "stdout",
          "text": [
            "depart_id            0\n",
            "card_id              0\n",
            "member_class         0\n",
            "last_consume_time    0\n",
            "card_type            0\n",
            "define_class         0\n",
            "is_suff              0\n",
            "level                0\n",
            "birthday             0\n",
            "consume_level        0\n",
            "point                0\n",
            "updatetime           0\n",
            "sex                  0\n",
            "age                  0\n",
            "Recency              0\n",
            "dtype: int64\n"
          ]
        }
      ]
    },
    {
      "cell_type": "code",
      "source": [
        "df_member_clean=df_member.copy()"
      ],
      "metadata": {
        "id": "DF_AtemV-afk"
      },
      "execution_count": 42,
      "outputs": []
    },
    {
      "cell_type": "code",
      "source": [
        "df_member_clean.shape"
      ],
      "metadata": {
        "colab": {
          "base_uri": "https://localhost:8080/"
        },
        "id": "ju9IazpDzto8",
        "outputId": "ca270d28-eb6c-4cba-c2bb-b5527427c5d5"
      },
      "execution_count": 43,
      "outputs": [
        {
          "output_type": "execute_result",
          "data": {
            "text/plain": [
              "(10000, 15)"
            ]
          },
          "metadata": {},
          "execution_count": 43
        }
      ]
    },
    {
      "cell_type": "markdown",
      "source": [
        "# Migración de clientes entre clusters (2016-2021)"
      ],
      "metadata": {
        "id": "P81pX2C4DjV9"
      }
    },
    {
      "cell_type": "code",
      "source": [
        "# Análisis de migración de clientes entre clusters (2016-2021)\n",
        "\n",
        "# Configuración para visualización\n",
        "plt.style.use('default')\n",
        "sns.set_style(\"whitegrid\")"
      ],
      "metadata": {
        "id": "jKctnPljDdZD"
      },
      "execution_count": 44,
      "outputs": []
    },
    {
      "cell_type": "code",
      "source": [
        "# last_consume_time a datetime\n",
        "df_member_clean['last_consume_time'] = pd.to_datetime(df_member_clean['last_consume_time'])\n",
        "\n",
        "# año para segmentar los períodos\n",
        "df_member_clean['year'] = df_member_clean['last_consume_time'].dt.year"
      ],
      "metadata": {
        "id": "EZUzKULqDqlR"
      },
      "execution_count": 45,
      "outputs": []
    },
    {
      "cell_type": "code",
      "source": [
        "df_member_clean.columns"
      ],
      "metadata": {
        "colab": {
          "base_uri": "https://localhost:8080/"
        },
        "id": "CDrHwseYDu6d",
        "outputId": "175c4231-d3d4-45b2-c76c-d800c291049a"
      },
      "execution_count": 46,
      "outputs": [
        {
          "output_type": "execute_result",
          "data": {
            "text/plain": [
              "Index(['depart_id', 'card_id', 'member_class', 'last_consume_time',\n",
              "       'card_type', 'define_class', 'is_suff', 'level', 'birthday',\n",
              "       'consume_level', 'point', 'updatetime', 'sex', 'age', 'Recency',\n",
              "       'year'],\n",
              "      dtype='object')"
            ]
          },
          "metadata": {},
          "execution_count": 46
        }
      ]
    },
    {
      "cell_type": "code",
      "source": [
        "# Preprocesamiento de datos\n",
        "def preprocess_data(data):\n",
        "    # columnas relevantes para el clustering\n",
        "    features = ['member_class', 'card_type', 'define_class', 'is_suff',\n",
        "                'level', 'consume_level', 'point', 'sex', 'age', 'Recency']\n",
        "\n",
        "    # Filtramos el dataset y manejamos valores nulos\n",
        "    df_clean = data[features].copy()\n",
        "    # Escalamos los datos\n",
        "    scaler = StandardScaler()\n",
        "    df_scaled = scaler.fit_transform(df_clean)\n",
        "\n",
        "    return df_scaled, features"
      ],
      "metadata": {
        "id": "99EHhPAjD0rh"
      },
      "execution_count": 47,
      "outputs": []
    },
    {
      "cell_type": "code",
      "source": [
        "# Función clustering KMeans\n",
        "def perform_clustering(data_scaled, n_clusters=3):\n",
        "    kmeans = KMeans(n_clusters=n_clusters, random_state=42, n_init=10)\n",
        "    clusters = kmeans.fit_predict(data_scaled)\n",
        "    return clusters, kmeans"
      ],
      "metadata": {
        "id": "6Oj8FcfID-bV"
      },
      "execution_count": 48,
      "outputs": []
    },
    {
      "cell_type": "code",
      "source": [
        "# Dividir el dataset en los períodos\n",
        "df_2016_2017 = df_member_clean[df_member_clean['year'].isin([2016, 2017])].copy()\n",
        "df_2017_2018 = df_member_clean[df_member_clean['year'].isin([2017, 2018])].copy()\n",
        "df_2018_2019 = df_member_clean[df_member_clean['year'].isin([2018, 2019])].copy()\n",
        "df_2019_2020 = df_member_clean[df_member_clean['year'].isin([2019, 2020])].copy()\n",
        "df_2020_2021 = df_member_clean[df_member_clean['year'].isin([2020, 2021])].copy()\n",
        "\n",
        "# Imprimir la cantidad de clientes en cada período\n",
        "print(\"\\nNúmero de registros por período:\")\n",
        "print(f\"2016-2017: {len(df_2016_2017)}\")\n",
        "print(f\"2017-2018: {len(df_2017_2018)}\")\n",
        "print(f\"2018-2019: {len(df_2018_2019)}\")\n",
        "print(f\"2019-2020: {len(df_2019_2020)}\")\n",
        "print(f\"2020-2021: {len(df_2020_2021)}\")"
      ],
      "metadata": {
        "colab": {
          "base_uri": "https://localhost:8080/"
        },
        "id": "anOKPcVTEFZ4",
        "outputId": "ddffea4b-0653-4a4b-946f-8983735b4138"
      },
      "execution_count": 49,
      "outputs": [
        {
          "output_type": "stream",
          "name": "stdout",
          "text": [
            "\n",
            "Número de registros por período:\n",
            "2016-2017: 7011\n",
            "2017-2018: 588\n",
            "2018-2019: 578\n",
            "2019-2020: 674\n",
            "2020-2021: 2411\n"
          ]
        }
      ]
    },
    {
      "cell_type": "code",
      "source": [
        "# Identificar clientes únicos en cada período\n",
        "unique_2016_2017 = set(df_2016_2017['card_id'].unique())\n",
        "unique_2017_2018 = set(df_2017_2018['card_id'].unique())\n",
        "unique_2018_2019 = set(df_2018_2019['card_id'].unique())\n",
        "unique_2019_2020 = set(df_2019_2020['card_id'].unique())\n",
        "unique_2020_2021 = set(df_2020_2021['card_id'].unique())\n",
        "\n",
        "print(f\"\\nClientes únicos por período:\")\n",
        "print(f\"2016-2017: {len(unique_2016_2017)}\")\n",
        "print(f\"2017-2018: {len(unique_2017_2018)}\")\n",
        "print(f\"2018-2019: {len(unique_2018_2019)}\")\n",
        "print(f\"2019-2020: {len(unique_2019_2020)}\")\n",
        "print(f\"2020-2021: {len(unique_2020_2021)}\")"
      ],
      "metadata": {
        "colab": {
          "base_uri": "https://localhost:8080/"
        },
        "id": "FCWSnfCvE8Dg",
        "outputId": "20117927-4e5a-4882-c827-49880af254d5"
      },
      "execution_count": 50,
      "outputs": [
        {
          "output_type": "stream",
          "name": "stdout",
          "text": [
            "\n",
            "Clientes únicos por período:\n",
            "2016-2017: 7011\n",
            "2017-2018: 588\n",
            "2018-2019: 578\n",
            "2019-2020: 674\n",
            "2020-2021: 2411\n"
          ]
        }
      ]
    },
    {
      "cell_type": "code",
      "source": [
        "# Identificar clientes que aparecen en múltiples períodos\n",
        "common_clients_2016_2017_to_2017_2018 = unique_2016_2017.intersection(unique_2017_2018)\n",
        "common_clients_2017_2018_to_2018_2019 = unique_2017_2018.intersection(unique_2018_2019)\n",
        "common_clients_2018_2019_to_2019_2020 = unique_2018_2019.intersection(unique_2019_2020)\n",
        "common_clients_2019_2020_to_2020_2021 = unique_2019_2020.intersection(unique_2020_2021)\n",
        "\n",
        "print(f\"\\nClientes presentes en múltiples períodos:\")\n",
        "print(f\"Presentes en 2016-2017 y 2017-2018: {len(common_clients_2016_2017_to_2017_2018)}\")\n",
        "print(f\"Presentes en 2017-2018 y 2018-2019: {len(common_clients_2017_2018_to_2018_2019)}\")\n",
        "print(f\"Presentes en 2018-2019 y 2019-2020: {len(common_clients_2018_2019_to_2019_2020)}\")\n",
        "print(f\"Presentes en 2019-2020 y 2020-2021: {len(common_clients_2019_2020_to_2020_2021)}\")"
      ],
      "metadata": {
        "colab": {
          "base_uri": "https://localhost:8080/"
        },
        "id": "c59K1gwOFIFv",
        "outputId": "50dcc4ce-9f06-4b73-a975-c6adf9f8eb0a"
      },
      "execution_count": 51,
      "outputs": [
        {
          "output_type": "stream",
          "name": "stdout",
          "text": [
            "\n",
            "Clientes presentes en múltiples períodos:\n",
            "Presentes en 2016-2017 y 2017-2018: 322\n",
            "Presentes en 2017-2018 y 2018-2019: 266\n",
            "Presentes en 2018-2019 y 2019-2020: 312\n",
            "Presentes en 2019-2020 y 2020-2021: 362\n"
          ]
        }
      ]
    },
    {
      "cell_type": "code",
      "source": [
        "# clustering para cada período\n",
        "def analyze_period(df_period, period_name):\n",
        "    print(f\"\\n{'='*50}\")\n",
        "    print(f\"ANÁLISIS PARA EL PERÍODO {period_name}\")\n",
        "    print(f\"{'='*50}\")\n",
        "\n",
        "    if len(df_period) == 0:\n",
        "        print(f\"No hay datos para el período {period_name}\")\n",
        "        return df_period\n",
        "\n",
        "    # Para evitar duplicados por cliente, tomamos el registro más reciente por cliente\n",
        "    df_period_unique = df_period.sort_values('last_consume_time').groupby('card_id').tail(1).copy()\n",
        "    print(f\"Registros únicos por cliente: {len(df_period_unique)}\")\n",
        "\n",
        "    # Preprocesamiento\n",
        "    try:\n",
        "        data_scaled, features = preprocess_data(df_period_unique)\n",
        "\n",
        "        # Clustering\n",
        "        clusters, kmeans_model = perform_clustering(data_scaled)\n",
        "        df_period_unique['cluster'] = clusters\n",
        "\n",
        "        # Análisis de los clusters\n",
        "        print(f\"\\nDistribución de clusters para {period_name}:\")\n",
        "        cluster_counts = df_period_unique['cluster'].value_counts().sort_index()\n",
        "        print(cluster_counts)\n",
        "\n",
        "        # distribución de los clusters\n",
        "        plt.figure(figsize=(10, 6))\n",
        "        cluster_counts.plot(kind='bar', color=sns.color_palette('viridis', len(cluster_counts)))\n",
        "        plt.title(f'Distribución de Clusters - {period_name}')\n",
        "        plt.xlabel('Cluster')\n",
        "        plt.ylabel('Número de Clientes')\n",
        "        plt.xticks(rotation=0)\n",
        "        plt.tight_layout()\n",
        "        plt.show()\n",
        "\n",
        "        return df_period_unique\n",
        "\n",
        "    except Exception as e:\n",
        "        print(f\"Error en el análisis del período {period_name}: {str(e)}\")\n",
        "        return df_period\n",
        "\n",
        "# Analizar cada período\n",
        "df_2016_2017_analyzed = analyze_period(df_2016_2017, '2016-2017')\n",
        "df_2017_2018_analyzed = analyze_period(df_2017_2018, '2017-2018')\n",
        "df_2018_2019_analyzed = analyze_period(df_2018_2019, '2018-2019')\n",
        "df_2019_2020_analyzed = analyze_period(df_2019_2020, '2019-2020')\n",
        "df_2020_2021_analyzed = analyze_period(df_2020_2021, '2020-2021')\n"
      ],
      "metadata": {
        "colab": {
          "base_uri": "https://localhost:8080/",
          "height": 1000
        },
        "collapsed": true,
        "id": "kPLkWNodGnC-",
        "outputId": "a72d1c6a-1384-45e6-928d-dc0a9b2e109a"
      },
      "execution_count": 52,
      "outputs": [
        {
          "output_type": "stream",
          "name": "stdout",
          "text": [
            "\n",
            "==================================================\n",
            "ANÁLISIS PARA EL PERÍODO 2016-2017\n",
            "==================================================\n",
            "Registros únicos por cliente: 7011\n",
            "\n",
            "Distribución de clusters para 2016-2017:\n",
            "cluster\n",
            "0    3315\n",
            "1    1319\n",
            "2    2377\n",
            "Name: count, dtype: int64\n"
          ]
        },
        {
          "output_type": "display_data",
          "data": {
            "text/plain": [
              "<Figure size 1000x600 with 1 Axes>"
            ],
            "image/png": "[encoded data removed]"
          },
          "metadata": {}
        },
        {
          "output_type": "stream",
          "name": "stdout",
          "text": [
            "\n",
            "==================================================\n",
            "ANÁLISIS PARA EL PERÍODO 2017-2018\n",
            "==================================================\n",
            "Registros únicos por cliente: 588\n",
            "\n",
            "Distribución de clusters para 2017-2018:\n",
            "cluster\n",
            "0    286\n",
            "1    270\n",
            "2     32\n",
            "Name: count, dtype: int64\n"
          ]
        },
        {
          "output_type": "display_data",
          "data": {
            "text/plain": [
              "<Figure size 1000x600 with 1 Axes>"
            ],
            "image/png": "[encoded data removed]"
          },
          "metadata": {}
        },
        {
          "output_type": "stream",
          "name": "stdout",
          "text": [
            "\n",
            "==================================================\n",
            "ANÁLISIS PARA EL PERÍODO 2018-2019\n",
            "==================================================\n",
            "Registros únicos por cliente: 578\n",
            "\n",
            "Distribución de clusters para 2018-2019:\n",
            "cluster\n",
            "0    541\n",
            "1     36\n",
            "2      1\n",
            "Name: count, dtype: int64\n"
          ]
        },
        {
          "output_type": "display_data",
          "data": {
            "text/plain": [
              "<Figure size 1000x600 with 1 Axes>"
            ],
            "image/png": "[encoded data removed]"
          },
          "metadata": {}
        },
        {
          "output_type": "stream",
          "name": "stdout",
          "text": [
            "\n",
            "==================================================\n",
            "ANÁLISIS PARA EL PERÍODO 2019-2020\n",
            "==================================================\n",
            "Registros únicos por cliente: 674\n",
            "\n",
            "Distribución de clusters para 2019-2020:\n",
            "cluster\n",
            "0    339\n",
            "1    309\n",
            "2     26\n",
            "Name: count, dtype: int64\n"
          ]
        },
        {
          "output_type": "display_data",
          "data": {
            "text/plain": [
              "<Figure size 1000x600 with 1 Axes>"
            ],
            "image/png": "[encoded data removed]"
          },
          "metadata": {}
        },
        {
          "output_type": "stream",
          "name": "stdout",
          "text": [
            "\n",
            "==================================================\n",
            "ANÁLISIS PARA EL PERÍODO 2020-2021\n",
            "==================================================\n",
            "Registros únicos por cliente: 2411\n",
            "\n",
            "Distribución de clusters para 2020-2021:\n",
            "cluster\n",
            "0    978\n",
            "1    753\n",
            "2    680\n",
            "Name: count, dtype: int64\n"
          ]
        },
        {
          "output_type": "display_data",
          "data": {
            "text/plain": [
              "<Figure size 1000x600 with 1 Axes>"
            ],
            "image/png": "[encoded data removed]"
          },
          "metadata": {}
        }
      ]
    },
    {
      "cell_type": "code",
      "source": [
        "# DataFrame: ID & cluster\n",
        "dfs = {\n",
        "    '2016-2017': df_2016_2017_analyzed[['card_id', 'cluster']].rename(columns={'cluster': 'cluster_16_17'}),\n",
        "    '2017-2018': df_2017_2018_analyzed[['card_id', 'cluster']].rename(columns={'cluster': 'cluster_17_18'}),\n",
        "    '2018-2019': df_2018_2019_analyzed[['card_id', 'cluster']].rename(columns={'cluster': 'cluster_18_19'}),\n",
        "    '2019-2020': df_2019_2020_analyzed[['card_id', 'cluster']].rename(columns={'cluster': 'cluster_19_20'}),\n",
        "    '2020-2021': df_2020_2021_analyzed[['card_id', 'cluster']].rename(columns={'cluster': 'cluster_20_21'}),\n",
        "}\n",
        "\n",
        "# merge progresivo de todos los años\n",
        "from functools import reduce\n",
        "df_all = reduce(lambda left, right: pd.merge(left, right, on='card_id', how='outer'), dfs.values())"
      ],
      "metadata": {
        "id": "2oeo1MObJgO-"
      },
      "execution_count": 53,
      "outputs": []
    },
    {
      "cell_type": "code",
      "source": [
        "output_path = '/content/drive/MyDrive/TFM/df_all_clusters_2016_2021_mode.csv'\n",
        "df_all.to_csv(output_path, index=False)\n",
        "\n",
        "#from google.colab import files\n",
        "#files.download(output_path)"
      ],
      "metadata": {
        "id": "xew5rnpZ0gQa"
      },
      "execution_count": 59,
      "outputs": []
    },
    {
      "cell_type": "code",
      "source": [
        "import plotly.graph_objects as go\n",
        "\n",
        "# conexiones entre cada par de años\n",
        "links = []\n",
        "labels = []\n",
        "label_map = {}\n",
        "\n",
        "def get_label_index(label):\n",
        "    if label not in label_map:\n",
        "        label_map[label] = len(label_map)\n",
        "        labels.append(label)\n",
        "    return label_map[label]\n",
        "\n",
        "# flujos entre años consecutivos\n",
        "years = ['16_17', '17_18', '18_19', '19_20', '20_21']\n",
        "for i in range(len(years) - 1):\n",
        "    col_source = f'cluster_{years[i]}'\n",
        "    col_target = f'cluster_{years[i+1]}'\n",
        "\n",
        "    temp = df_all[[col_source, col_target]].dropna()\n",
        "    flows = temp.groupby([col_source, col_target]).size().reset_index(name='count')\n",
        "\n",
        "    for _, row in flows.iterrows():\n",
        "        source_label = f\"{years[i]}_C{int(row[col_source])}\"\n",
        "        target_label = f\"{years[i+1]}_C{int(row[col_target])}\"\n",
        "\n",
        "        source = get_label_index(source_label)\n",
        "        target = get_label_index(target_label)\n",
        "\n",
        "        links.append(dict(source=source, target=target, value=row['count']))"
      ],
      "metadata": {
        "id": "Oo5mS_ZhJlGe"
      },
      "execution_count": 55,
      "outputs": []
    },
    {
      "cell_type": "code",
      "source": [
        "fig = go.Figure(data=[go.Sankey(\n",
        "    node=dict(\n",
        "        pad=15,\n",
        "        thickness=20,\n",
        "        line=dict(color=\"black\", width=0.5),\n",
        "        label=labels,\n",
        "        color=\"blue\"\n",
        "    ),\n",
        "    link=dict(\n",
        "        source=[link['source'] for link in links],\n",
        "        target=[link['target'] for link in links],\n",
        "        value=[link['value'] for link in links]\n",
        "    ))])\n",
        "\n",
        "fig.update_layout(\n",
        "    title=dict(\n",
        "        text=\"Client migration between clusters (2016–2021)\",\n",
        "        x=0.5,\n",
        "        xanchor='center'\n",
        "    ),\n",
        "    font_size=10\n",
        ")\n",
        "\n",
        "fig.show()"
      ],
      "metadata": {
        "colab": {
          "base_uri": "https://localhost:8080/",
          "height": 542
        },
        "id": "g8c_fOE8OXPQ",
        "outputId": "56a625d9-24d0-4c90-baf8-244f1259ba4d"
      },
      "execution_count": 56,
      "outputs": [
        {
          "output_type": "display_data",
          "data": {
            "text/html": [
              "<html>\n",
              "<head><meta charset=\"utf-8\" /></head>\n",
              "<body>\n",
              "    <div>            <script src=\"https://cdnjs.cloudflare.com/ajax/libs/mathjax/2.7.5/MathJax.js?config=TeX-AMS-MML_SVG\"></script><script type=\"text/javascript\">if (window.MathJax && window.MathJax.Hub && window.MathJax.Hub.Config) {window.MathJax.Hub.Config({SVG: {font: \"STIX-Web\"}});}</script>                <script type=\"text/javascript\">window.PlotlyConfig = {MathJaxConfig: 'local'};</script>\n",
              "        <script charset=\"utf-8\" src=\"https://cdn.plot.ly/plotly-2.35.2.min.js\"></script>                <div id=\"78b72565-331e-4dd5-9914-3db6953eebac\" class=\"plotly-graph-div\" style=\"height:525px; width:100%;\"></div>            <script type=\"text/javascript\">                                    window.PLOTLYENV=window.PLOTLYENV || {};                                    if (document.getElementById(\"78b72565-331e-4dd5-9914-3db6953eebac\")) {                    Plotly.newPlot(                        \"78b72565-331e-4dd5-9914-3db6953eebac\",                        [{\"link\":{\"source\":[0,0,3,3,3,5,1,4,2,6,6,7,11,8,8,8,9,10],\"target\":[1,2,1,4,2,2,6,6,7,8,9,10,8,12,13,14,14,14],\"value\":[1.0,5.0,166.0,142.0,2.0,6.0,119.0,128.0,19.0,20.0,274.0,17.0,1.0,2.0,1.0,315.0,35.0,9.0]},\"node\":{\"color\":\"blue\",\"label\":[\"16_17_C0\",\"17_18_C0\",\"17_18_C2\",\"16_17_C1\",\"17_18_C1\",\"16_17_C2\",\"18_19_C0\",\"18_19_C1\",\"19_20_C0\",\"19_20_C1\",\"19_20_C2\",\"18_19_C2\",\"20_21_C0\",\"20_21_C1\",\"20_21_C2\"],\"line\":{\"color\":\"black\",\"width\":0.5},\"pad\":15,\"thickness\":20},\"type\":\"sankey\"}],                        {\"template\":{\"data\":{\"histogram2dcontour\":[{\"type\":\"histogram2dcontour\",\"colorbar\":{\"outlinewidth\":0,\"ticks\":\"\"},\"colorscale\":[[0.0,\"#0d0887\"],[0.1111111111111111,\"#46039f\"],[0.2222222222222222,\"#7201a8\"],[0.3333333333333333,\"#9c179e\"],[0.4444444444444444,\"#bd3786\"],[0.5555555555555556,\"#d8576b\"],[0.6666666666666666,\"#ed7953\"],[0.7777777777777778,\"#fb9f3a\"],[0.8888888888888888,\"#fdca26\"],[1.0,\"#f0f921\"]]}],\"choropleth\":[{\"type\":\"choropleth\",\"colorbar\":{\"outlinewidth\":0,\"ticks\":\"\"}}],\"histogram2d\":[{\"type\":\"histogram2d\",\"colorbar\":{\"outlinewidth\":0,\"ticks\":\"\"},\"colorscale\":[[0.0,\"#0d0887\"],[0.1111111111111111,\"#46039f\"],[0.2222222222222222,\"#7201a8\"],[0.3333333333333333,\"#9c179e\"],[0.4444444444444444,\"#bd3786\"],[0.5555555555555556,\"#d8576b\"],[0.6666666666666666,\"#ed7953\"],[0.7777777777777778,\"#fb9f3a\"],[0.8888888888888888,\"#fdca26\"],[1.0,\"#f0f921\"]]}],\"heatmap\":[{\"type\":\"heatmap\",\"colorbar\":{\"outlinewidth\":0,\"ticks\":\"\"},\"colorscale\":[[0.0,\"#0d0887\"],[0.1111111111111111,\"#46039f\"],[0.2222222222222222,\"#7201a8\"],[0.3333333333333333,\"#9c179e\"],[0.4444444444444444,\"#bd3786\"],[0.5555555555555556,\"#d8576b\"],[0.6666666666666666,\"#ed7953\"],[0.7777777777777778,\"#fb9f3a\"],[0.8888888888888888,\"#fdca26\"],[1.0,\"#f0f921\"]]}],\"heatmapgl\":[{\"type\":\"heatmapgl\",\"colorbar\":{\"outlinewidth\":0,\"ticks\":\"\"},\"colorscale\":[[0.0,\"#0d0887\"],[0.1111111111111111,\"#46039f\"],[0.2222222222222222,\"#7201a8\"],[0.3333333333333333,\"#9c179e\"],[0.4444444444444444,\"#bd3786\"],[0.5555555555555556,\"#d8576b\"],[0.6666666666666666,\"#ed7953\"],[0.7777777777777778,\"#fb9f3a\"],[0.8888888888888888,\"#fdca26\"],[1.0,\"#f0f921\"]]}],\"contourcarpet\":[{\"type\":\"contourcarpet\",\"colorbar\":{\"outlinewidth\":0,\"ticks\":\"\"}}],\"contour\":[{\"type\":\"contour\",\"colorbar\":{\"outlinewidth\":0,\"ticks\":\"\"},\"colorscale\":[[0.0,\"#0d0887\"],[0.1111111111111111,\"#46039f\"],[0.2222222222222222,\"#7201a8\"],[0.3333333333333333,\"#9c179e\"],[0.4444444444444444,\"#bd3786\"],[0.5555555555555556,\"#d8576b\"],[0.6666666666666666,\"#ed7953\"],[0.7777777777777778,\"#fb9f3a\"],[0.8888888888888888,\"#fdca26\"],[1.0,\"#f0f921\"]]}],\"surface\":[{\"type\":\"surface\",\"colorbar\":{\"outlinewidth\":0,\"ticks\":\"\"},\"colorscale\":[[0.0,\"#0d0887\"],[0.1111111111111111,\"#46039f\"],[0.2222222222222222,\"#7201a8\"],[0.3333333333333333,\"#9c179e\"],[0.4444444444444444,\"#bd3786\"],[0.5555555555555556,\"#d8576b\"],[0.6666666666666666,\"#ed7953\"],[0.7777777777777778,\"#fb9f3a\"],[0.8888888888888888,\"#fdca26\"],[1.0,\"#f0f921\"]]}],\"mesh3d\":[{\"type\":\"mesh3d\",\"colorbar\":{\"outlinewidth\":0,\"ticks\":\"\"}}],\"scatter\":[{\"fillpattern\":{\"fillmode\":\"overlay\",\"size\":10,\"solidity\":0.2},\"type\":\"scatter\"}],\"parcoords\":[{\"type\":\"parcoords\",\"line\":{\"colorbar\":{\"outlinewidth\":0,\"ticks\":\"\"}}}],\"scatterpolargl\":[{\"type\":\"scatterpolargl\",\"marker\":{\"colorbar\":{\"outlinewidth\":0,\"ticks\":\"\"}}}],\"bar\":[{\"error_x\":{\"color\":\"#2a3f5f\"},\"error_y\":{\"color\":\"#2a3f5f\"},\"marker\":{\"line\":{\"color\":\"#E5ECF6\",\"width\":0.5},\"pattern\":{\"fillmode\":\"overlay\",\"size\":10,\"solidity\":0.2}},\"type\":\"bar\"}],\"scattergeo\":[{\"type\":\"scattergeo\",\"marker\":{\"colorbar\":{\"outlinewidth\":0,\"ticks\":\"\"}}}],\"scatterpolar\":[{\"type\":\"scatterpolar\",\"marker\":{\"colorbar\":{\"outlinewidth\":0,\"ticks\":\"\"}}}],\"histogram\":[{\"marker\":{\"pattern\":{\"fillmode\":\"overlay\",\"size\":10,\"solidity\":0.2}},\"type\":\"histogram\"}],\"scattergl\":[{\"type\":\"scattergl\",\"marker\":{\"colorbar\":{\"outlinewidth\":0,\"ticks\":\"\"}}}],\"scatter3d\":[{\"type\":\"scatter3d\",\"line\":{\"colorbar\":{\"outlinewidth\":0,\"ticks\":\"\"}},\"marker\":{\"colorbar\":{\"outlinewidth\":0,\"ticks\":\"\"}}}],\"scattermapbox\":[{\"type\":\"scattermapbox\",\"marker\":{\"colorbar\":{\"outlinewidth\":0,\"ticks\":\"\"}}}],\"scatterternary\":[{\"type\":\"scatterternary\",\"marker\":{\"colorbar\":{\"outlinewidth\":0,\"ticks\":\"\"}}}],\"scattercarpet\":[{\"type\":\"scattercarpet\",\"marker\":{\"colorbar\":{\"outlinewidth\":0,\"ticks\":\"\"}}}],\"carpet\":[{\"aaxis\":{\"endlinecolor\":\"#2a3f5f\",\"gridcolor\":\"white\",\"linecolor\":\"white\",\"minorgridcolor\":\"white\",\"startlinecolor\":\"#2a3f5f\"},\"baxis\":{\"endlinecolor\":\"#2a3f5f\",\"gridcolor\":\"white\",\"linecolor\":\"white\",\"minorgridcolor\":\"white\",\"startlinecolor\":\"#2a3f5f\"},\"type\":\"carpet\"}],\"table\":[{\"cells\":{\"fill\":{\"color\":\"#EBF0F8\"},\"line\":{\"color\":\"white\"}},\"header\":{\"fill\":{\"color\":\"#C8D4E3\"},\"line\":{\"color\":\"white\"}},\"type\":\"table\"}],\"barpolar\":[{\"marker\":{\"line\":{\"color\":\"#E5ECF6\",\"width\":0.5},\"pattern\":{\"fillmode\":\"overlay\",\"size\":10,\"solidity\":0.2}},\"type\":\"barpolar\"}],\"pie\":[{\"automargin\":true,\"type\":\"pie\"}]},\"layout\":{\"autotypenumbers\":\"strict\",\"colorway\":[\"#636efa\",\"#EF553B\",\"#00cc96\",\"#ab63fa\",\"#FFA15A\",\"#19d3f3\",\"#FF6692\",\"#B6E880\",\"#FF97FF\",\"#FECB52\"],\"font\":{\"color\":\"#2a3f5f\"},\"hovermode\":\"closest\",\"hoverlabel\":{\"align\":\"left\"},\"paper_bgcolor\":\"white\",\"plot_bgcolor\":\"#E5ECF6\",\"polar\":{\"bgcolor\":\"#E5ECF6\",\"angularaxis\":{\"gridcolor\":\"white\",\"linecolor\":\"white\",\"ticks\":\"\"},\"radialaxis\":{\"gridcolor\":\"white\",\"linecolor\":\"white\",\"ticks\":\"\"}},\"ternary\":{\"bgcolor\":\"#E5ECF6\",\"aaxis\":{\"gridcolor\":\"white\",\"linecolor\":\"white\",\"ticks\":\"\"},\"baxis\":{\"gridcolor\":\"white\",\"linecolor\":\"white\",\"ticks\":\"\"},\"caxis\":{\"gridcolor\":\"white\",\"linecolor\":\"white\",\"ticks\":\"\"}},\"coloraxis\":{\"colorbar\":{\"outlinewidth\":0,\"ticks\":\"\"}},\"colorscale\":{\"sequential\":[[0.0,\"#0d0887\"],[0.1111111111111111,\"#46039f\"],[0.2222222222222222,\"#7201a8\"],[0.3333333333333333,\"#9c179e\"],[0.4444444444444444,\"#bd3786\"],[0.5555555555555556,\"#d8576b\"],[0.6666666666666666,\"#ed7953\"],[0.7777777777777778,\"#fb9f3a\"],[0.8888888888888888,\"#fdca26\"],[1.0,\"#f0f921\"]],\"sequentialminus\":[[0.0,\"#0d0887\"],[0.1111111111111111,\"#46039f\"],[0.2222222222222222,\"#7201a8\"],[0.3333333333333333,\"#9c179e\"],[0.4444444444444444,\"#bd3786\"],[0.5555555555555556,\"#d8576b\"],[0.6666666666666666,\"#ed7953\"],[0.7777777777777778,\"#fb9f3a\"],[0.8888888888888888,\"#fdca26\"],[1.0,\"#f0f921\"]],\"diverging\":[[0,\"#8e0152\"],[0.1,\"#c51b7d\"],[0.2,\"#de77ae\"],[0.3,\"#f1b6da\"],[0.4,\"#fde0ef\"],[0.5,\"#f7f7f7\"],[0.6,\"#e6f5d0\"],[0.7,\"#b8e186\"],[0.8,\"#7fbc41\"],[0.9,\"#4d9221\"],[1,\"#276419\"]]},\"xaxis\":{\"gridcolor\":\"white\",\"linecolor\":\"white\",\"ticks\":\"\",\"title\":{\"standoff\":15},\"zerolinecolor\":\"white\",\"automargin\":true,\"zerolinewidth\":2},\"yaxis\":{\"gridcolor\":\"white\",\"linecolor\":\"white\",\"ticks\":\"\",\"title\":{\"standoff\":15},\"zerolinecolor\":\"white\",\"automargin\":true,\"zerolinewidth\":2},\"scene\":{\"xaxis\":{\"backgroundcolor\":\"#E5ECF6\",\"gridcolor\":\"white\",\"linecolor\":\"white\",\"showbackground\":true,\"ticks\":\"\",\"zerolinecolor\":\"white\",\"gridwidth\":2},\"yaxis\":{\"backgroundcolor\":\"#E5ECF6\",\"gridcolor\":\"white\",\"linecolor\":\"white\",\"showbackground\":true,\"ticks\":\"\",\"zerolinecolor\":\"white\",\"gridwidth\":2},\"zaxis\":{\"backgroundcolor\":\"#E5ECF6\",\"gridcolor\":\"white\",\"linecolor\":\"white\",\"showbackground\":true,\"ticks\":\"\",\"zerolinecolor\":\"white\",\"gridwidth\":2}},\"shapedefaults\":{\"line\":{\"color\":\"#2a3f5f\"}},\"annotationdefaults\":{\"arrowcolor\":\"#2a3f5f\",\"arrowhead\":0,\"arrowwidth\":1},\"geo\":{\"bgcolor\":\"white\",\"landcolor\":\"#E5ECF6\",\"subunitcolor\":\"white\",\"showland\":true,\"showlakes\":true,\"lakecolor\":\"white\"},\"title\":{\"x\":0.05},\"mapbox\":{\"style\":\"light\"}}},\"title\":{\"text\":\"Client migration between clusters (2016–2021)\",\"x\":0.5,\"xanchor\":\"center\"},\"font\":{\"size\":10}},                        {\"responsive\": true}                    ).then(function(){\n",
              "                            \n",
              "var gd = document.getElementById('78b72565-331e-4dd5-9914-3db6953eebac');\n",
              "var x = new MutationObserver(function (mutations, observer) {{\n",
              "        var display = window.getComputedStyle(gd).display;\n",
              "        if (!display || display === 'none') {{\n",
              "            console.log([gd, 'removed!']);\n",
              "            Plotly.purge(gd);\n",
              "            observer.disconnect();\n",
              "        }}\n",
              "}});\n",
              "\n",
              "// Listen for the removal of the full notebook cells\n",
              "var notebookContainer = gd.closest('#notebook-container');\n",
              "if (notebookContainer) {{\n",
              "    x.observe(notebookContainer, {childList: true});\n",
              "}}\n",
              "\n",
              "// Listen for the clearing of the current output cell\n",
              "var outputEl = gd.closest('.output');\n",
              "if (outputEl) {{\n",
              "    x.observe(outputEl, {childList: true});\n",
              "}}\n",
              "\n",
              "                        })                };                            </script>        </div>\n",
              "</body>\n",
              "</html>"
            ]
          },
          "metadata": {}
        }
      ]
    },
    {
      "cell_type": "code",
      "source": [
        "import plotly.graph_objects as go\n",
        "\n",
        "# conexiones entre cada par de años\n",
        "links = []\n",
        "labels = []\n",
        "label_map = {}\n",
        "\n",
        "def get_label_index(label):\n",
        "    if label not in label_map:\n",
        "        label_map[label] = len(label_map)\n",
        "        labels.append(label)\n",
        "    return label_map[label]\n",
        "\n",
        "# flujos entre años consecutivos\n",
        "years = ['19_20', '20_21']\n",
        "for i in range(len(years) - 1):\n",
        "    col_source = f'cluster_{years[i]}'\n",
        "    col_target = f'cluster_{years[i+1]}'\n",
        "\n",
        "    temp = df_all[[col_source, col_target]].dropna()\n",
        "    flows = temp.groupby([col_source, col_target]).size().reset_index(name='count')\n",
        "\n",
        "    for _, row in flows.iterrows():\n",
        "        source_label = f\"{years[i]}_C{int(row[col_source])}\"\n",
        "        target_label = f\"{years[i+1]}_C{int(row[col_target])}\"\n",
        "\n",
        "        source = get_label_index(source_label)\n",
        "        target = get_label_index(target_label)\n",
        "\n",
        "        links.append(dict(source=source, target=target, value=row['count']))"
      ],
      "metadata": {
        "id": "DZ6vM21i5_gy"
      },
      "execution_count": 57,
      "outputs": []
    },
    {
      "cell_type": "code",
      "source": [
        "fig = go.Figure(data=[go.Sankey(\n",
        "    node=dict(\n",
        "        pad=15,\n",
        "        thickness=20,\n",
        "        line=dict(color=\"black\", width=0.5),\n",
        "        label=labels,\n",
        "        color=\"blue\"\n",
        "    ),\n",
        "    link=dict(\n",
        "        source=[link['source'] for link in links],\n",
        "        target=[link['target'] for link in links],\n",
        "        value=[link['value'] for link in links]\n",
        "    ))])\n",
        "\n",
        "fig.update_layout(\n",
        "    title=dict(\n",
        "        text=\"Client migration between clusters (2020–2021)\",\n",
        "        x=0.5,\n",
        "        xanchor='center'\n",
        "    ),\n",
        "    font_size=10\n",
        ")\n",
        "\n",
        "fig.show()"
      ],
      "metadata": {
        "colab": {
          "base_uri": "https://localhost:8080/",
          "height": 542
        },
        "outputId": "a31d7083-9148-4e1a-e7d0-19cac28400a3",
        "id": "bn0CmtZ-6E1P"
      },
      "execution_count": 58,
      "outputs": [
        {
          "output_type": "display_data",
          "data": {
            "text/html": [
              "<html>\n",
              "<head><meta charset=\"utf-8\" /></head>\n",
              "<body>\n",
              "    <div>            <script src=\"https://cdnjs.cloudflare.com/ajax/libs/mathjax/2.7.5/MathJax.js?config=TeX-AMS-MML_SVG\"></script><script type=\"text/javascript\">if (window.MathJax && window.MathJax.Hub && window.MathJax.Hub.Config) {window.MathJax.Hub.Config({SVG: {font: \"STIX-Web\"}});}</script>                <script type=\"text/javascript\">window.PlotlyConfig = {MathJaxConfig: 'local'};</script>\n",
              "        <script charset=\"utf-8\" src=\"https://cdn.plot.ly/plotly-2.35.2.min.js\"></script>                <div id=\"735636bf-71e5-46d6-893f-7a20cb30cba8\" class=\"plotly-graph-div\" style=\"height:525px; width:100%;\"></div>            <script type=\"text/javascript\">                                    window.PLOTLYENV=window.PLOTLYENV || {};                                    if (document.getElementById(\"735636bf-71e5-46d6-893f-7a20cb30cba8\")) {                    Plotly.newPlot(                        \"735636bf-71e5-46d6-893f-7a20cb30cba8\",                        [{\"link\":{\"source\":[0,0,0,4,5],\"target\":[1,2,3,3,3],\"value\":[2.0,1.0,315.0,35.0,9.0]},\"node\":{\"color\":\"blue\",\"label\":[\"19_20_C0\",\"20_21_C0\",\"20_21_C1\",\"20_21_C2\",\"19_20_C1\",\"19_20_C2\"],\"line\":{\"color\":\"black\",\"width\":0.5},\"pad\":15,\"thickness\":20},\"type\":\"sankey\"}],                        {\"template\":{\"data\":{\"histogram2dcontour\":[{\"type\":\"histogram2dcontour\",\"colorbar\":{\"outlinewidth\":0,\"ticks\":\"\"},\"colorscale\":[[0.0,\"#0d0887\"],[0.1111111111111111,\"#46039f\"],[0.2222222222222222,\"#7201a8\"],[0.3333333333333333,\"#9c179e\"],[0.4444444444444444,\"#bd3786\"],[0.5555555555555556,\"#d8576b\"],[0.6666666666666666,\"#ed7953\"],[0.7777777777777778,\"#fb9f3a\"],[0.8888888888888888,\"#fdca26\"],[1.0,\"#f0f921\"]]}],\"choropleth\":[{\"type\":\"choropleth\",\"colorbar\":{\"outlinewidth\":0,\"ticks\":\"\"}}],\"histogram2d\":[{\"type\":\"histogram2d\",\"colorbar\":{\"outlinewidth\":0,\"ticks\":\"\"},\"colorscale\":[[0.0,\"#0d0887\"],[0.1111111111111111,\"#46039f\"],[0.2222222222222222,\"#7201a8\"],[0.3333333333333333,\"#9c179e\"],[0.4444444444444444,\"#bd3786\"],[0.5555555555555556,\"#d8576b\"],[0.6666666666666666,\"#ed7953\"],[0.7777777777777778,\"#fb9f3a\"],[0.8888888888888888,\"#fdca26\"],[1.0,\"#f0f921\"]]}],\"heatmap\":[{\"type\":\"heatmap\",\"colorbar\":{\"outlinewidth\":0,\"ticks\":\"\"},\"colorscale\":[[0.0,\"#0d0887\"],[0.1111111111111111,\"#46039f\"],[0.2222222222222222,\"#7201a8\"],[0.3333333333333333,\"#9c179e\"],[0.4444444444444444,\"#bd3786\"],[0.5555555555555556,\"#d8576b\"],[0.6666666666666666,\"#ed7953\"],[0.7777777777777778,\"#fb9f3a\"],[0.8888888888888888,\"#fdca26\"],[1.0,\"#f0f921\"]]}],\"heatmapgl\":[{\"type\":\"heatmapgl\",\"colorbar\":{\"outlinewidth\":0,\"ticks\":\"\"},\"colorscale\":[[0.0,\"#0d0887\"],[0.1111111111111111,\"#46039f\"],[0.2222222222222222,\"#7201a8\"],[0.3333333333333333,\"#9c179e\"],[0.4444444444444444,\"#bd3786\"],[0.5555555555555556,\"#d8576b\"],[0.6666666666666666,\"#ed7953\"],[0.7777777777777778,\"#fb9f3a\"],[0.8888888888888888,\"#fdca26\"],[1.0,\"#f0f921\"]]}],\"contourcarpet\":[{\"type\":\"contourcarpet\",\"colorbar\":{\"outlinewidth\":0,\"ticks\":\"\"}}],\"contour\":[{\"type\":\"contour\",\"colorbar\":{\"outlinewidth\":0,\"ticks\":\"\"},\"colorscale\":[[0.0,\"#0d0887\"],[0.1111111111111111,\"#46039f\"],[0.2222222222222222,\"#7201a8\"],[0.3333333333333333,\"#9c179e\"],[0.4444444444444444,\"#bd3786\"],[0.5555555555555556,\"#d8576b\"],[0.6666666666666666,\"#ed7953\"],[0.7777777777777778,\"#fb9f3a\"],[0.8888888888888888,\"#fdca26\"],[1.0,\"#f0f921\"]]}],\"surface\":[{\"type\":\"surface\",\"colorbar\":{\"outlinewidth\":0,\"ticks\":\"\"},\"colorscale\":[[0.0,\"#0d0887\"],[0.1111111111111111,\"#46039f\"],[0.2222222222222222,\"#7201a8\"],[0.3333333333333333,\"#9c179e\"],[0.4444444444444444,\"#bd3786\"],[0.5555555555555556,\"#d8576b\"],[0.6666666666666666,\"#ed7953\"],[0.7777777777777778,\"#fb9f3a\"],[0.8888888888888888,\"#fdca26\"],[1.0,\"#f0f921\"]]}],\"mesh3d\":[{\"type\":\"mesh3d\",\"colorbar\":{\"outlinewidth\":0,\"ticks\":\"\"}}],\"scatter\":[{\"fillpattern\":{\"fillmode\":\"overlay\",\"size\":10,\"solidity\":0.2},\"type\":\"scatter\"}],\"parcoords\":[{\"type\":\"parcoords\",\"line\":{\"colorbar\":{\"outlinewidth\":0,\"ticks\":\"\"}}}],\"scatterpolargl\":[{\"type\":\"scatterpolargl\",\"marker\":{\"colorbar\":{\"outlinewidth\":0,\"ticks\":\"\"}}}],\"bar\":[{\"error_x\":{\"color\":\"#2a3f5f\"},\"error_y\":{\"color\":\"#2a3f5f\"},\"marker\":{\"line\":{\"color\":\"#E5ECF6\",\"width\":0.5},\"pattern\":{\"fillmode\":\"overlay\",\"size\":10,\"solidity\":0.2}},\"type\":\"bar\"}],\"scattergeo\":[{\"type\":\"scattergeo\",\"marker\":{\"colorbar\":{\"outlinewidth\":0,\"ticks\":\"\"}}}],\"scatterpolar\":[{\"type\":\"scatterpolar\",\"marker\":{\"colorbar\":{\"outlinewidth\":0,\"ticks\":\"\"}}}],\"histogram\":[{\"marker\":{\"pattern\":{\"fillmode\":\"overlay\",\"size\":10,\"solidity\":0.2}},\"type\":\"histogram\"}],\"scattergl\":[{\"type\":\"scattergl\",\"marker\":{\"colorbar\":{\"outlinewidth\":0,\"ticks\":\"\"}}}],\"scatter3d\":[{\"type\":\"scatter3d\",\"line\":{\"colorbar\":{\"outlinewidth\":0,\"ticks\":\"\"}},\"marker\":{\"colorbar\":{\"outlinewidth\":0,\"ticks\":\"\"}}}],\"scattermapbox\":[{\"type\":\"scattermapbox\",\"marker\":{\"colorbar\":{\"outlinewidth\":0,\"ticks\":\"\"}}}],\"scatterternary\":[{\"type\":\"scatterternary\",\"marker\":{\"colorbar\":{\"outlinewidth\":0,\"ticks\":\"\"}}}],\"scattercarpet\":[{\"type\":\"scattercarpet\",\"marker\":{\"colorbar\":{\"outlinewidth\":0,\"ticks\":\"\"}}}],\"carpet\":[{\"aaxis\":{\"endlinecolor\":\"#2a3f5f\",\"gridcolor\":\"white\",\"linecolor\":\"white\",\"minorgridcolor\":\"white\",\"startlinecolor\":\"#2a3f5f\"},\"baxis\":{\"endlinecolor\":\"#2a3f5f\",\"gridcolor\":\"white\",\"linecolor\":\"white\",\"minorgridcolor\":\"white\",\"startlinecolor\":\"#2a3f5f\"},\"type\":\"carpet\"}],\"table\":[{\"cells\":{\"fill\":{\"color\":\"#EBF0F8\"},\"line\":{\"color\":\"white\"}},\"header\":{\"fill\":{\"color\":\"#C8D4E3\"},\"line\":{\"color\":\"white\"}},\"type\":\"table\"}],\"barpolar\":[{\"marker\":{\"line\":{\"color\":\"#E5ECF6\",\"width\":0.5},\"pattern\":{\"fillmode\":\"overlay\",\"size\":10,\"solidity\":0.2}},\"type\":\"barpolar\"}],\"pie\":[{\"automargin\":true,\"type\":\"pie\"}]},\"layout\":{\"autotypenumbers\":\"strict\",\"colorway\":[\"#636efa\",\"#EF553B\",\"#00cc96\",\"#ab63fa\",\"#FFA15A\",\"#19d3f3\",\"#FF6692\",\"#B6E880\",\"#FF97FF\",\"#FECB52\"],\"font\":{\"color\":\"#2a3f5f\"},\"hovermode\":\"closest\",\"hoverlabel\":{\"align\":\"left\"},\"paper_bgcolor\":\"white\",\"plot_bgcolor\":\"#E5ECF6\",\"polar\":{\"bgcolor\":\"#E5ECF6\",\"angularaxis\":{\"gridcolor\":\"white\",\"linecolor\":\"white\",\"ticks\":\"\"},\"radialaxis\":{\"gridcolor\":\"white\",\"linecolor\":\"white\",\"ticks\":\"\"}},\"ternary\":{\"bgcolor\":\"#E5ECF6\",\"aaxis\":{\"gridcolor\":\"white\",\"linecolor\":\"white\",\"ticks\":\"\"},\"baxis\":{\"gridcolor\":\"white\",\"linecolor\":\"white\",\"ticks\":\"\"},\"caxis\":{\"gridcolor\":\"white\",\"linecolor\":\"white\",\"ticks\":\"\"}},\"coloraxis\":{\"colorbar\":{\"outlinewidth\":0,\"ticks\":\"\"}},\"colorscale\":{\"sequential\":[[0.0,\"#0d0887\"],[0.1111111111111111,\"#46039f\"],[0.2222222222222222,\"#7201a8\"],[0.3333333333333333,\"#9c179e\"],[0.4444444444444444,\"#bd3786\"],[0.5555555555555556,\"#d8576b\"],[0.6666666666666666,\"#ed7953\"],[0.7777777777777778,\"#fb9f3a\"],[0.8888888888888888,\"#fdca26\"],[1.0,\"#f0f921\"]],\"sequentialminus\":[[0.0,\"#0d0887\"],[0.1111111111111111,\"#46039f\"],[0.2222222222222222,\"#7201a8\"],[0.3333333333333333,\"#9c179e\"],[0.4444444444444444,\"#bd3786\"],[0.5555555555555556,\"#d8576b\"],[0.6666666666666666,\"#ed7953\"],[0.7777777777777778,\"#fb9f3a\"],[0.8888888888888888,\"#fdca26\"],[1.0,\"#f0f921\"]],\"diverging\":[[0,\"#8e0152\"],[0.1,\"#c51b7d\"],[0.2,\"#de77ae\"],[0.3,\"#f1b6da\"],[0.4,\"#fde0ef\"],[0.5,\"#f7f7f7\"],[0.6,\"#e6f5d0\"],[0.7,\"#b8e186\"],[0.8,\"#7fbc41\"],[0.9,\"#4d9221\"],[1,\"#276419\"]]},\"xaxis\":{\"gridcolor\":\"white\",\"linecolor\":\"white\",\"ticks\":\"\",\"title\":{\"standoff\":15},\"zerolinecolor\":\"white\",\"automargin\":true,\"zerolinewidth\":2},\"yaxis\":{\"gridcolor\":\"white\",\"linecolor\":\"white\",\"ticks\":\"\",\"title\":{\"standoff\":15},\"zerolinecolor\":\"white\",\"automargin\":true,\"zerolinewidth\":2},\"scene\":{\"xaxis\":{\"backgroundcolor\":\"#E5ECF6\",\"gridcolor\":\"white\",\"linecolor\":\"white\",\"showbackground\":true,\"ticks\":\"\",\"zerolinecolor\":\"white\",\"gridwidth\":2},\"yaxis\":{\"backgroundcolor\":\"#E5ECF6\",\"gridcolor\":\"white\",\"linecolor\":\"white\",\"showbackground\":true,\"ticks\":\"\",\"zerolinecolor\":\"white\",\"gridwidth\":2},\"zaxis\":{\"backgroundcolor\":\"#E5ECF6\",\"gridcolor\":\"white\",\"linecolor\":\"white\",\"showbackground\":true,\"ticks\":\"\",\"zerolinecolor\":\"white\",\"gridwidth\":2}},\"shapedefaults\":{\"line\":{\"color\":\"#2a3f5f\"}},\"annotationdefaults\":{\"arrowcolor\":\"#2a3f5f\",\"arrowhead\":0,\"arrowwidth\":1},\"geo\":{\"bgcolor\":\"white\",\"landcolor\":\"#E5ECF6\",\"subunitcolor\":\"white\",\"showland\":true,\"showlakes\":true,\"lakecolor\":\"white\"},\"title\":{\"x\":0.05},\"mapbox\":{\"style\":\"light\"}}},\"title\":{\"text\":\"Client migration between clusters (2020–2021)\",\"x\":0.5,\"xanchor\":\"center\"},\"font\":{\"size\":10}},                        {\"responsive\": true}                    ).then(function(){\n",
              "                            \n",
              "var gd = document.getElementById('735636bf-71e5-46d6-893f-7a20cb30cba8');\n",
              "var x = new MutationObserver(function (mutations, observer) {{\n",
              "        var display = window.getComputedStyle(gd).display;\n",
              "        if (!display || display === 'none') {{\n",
              "            console.log([gd, 'removed!']);\n",
              "            Plotly.purge(gd);\n",
              "            observer.disconnect();\n",
              "        }}\n",
              "}});\n",
              "\n",
              "// Listen for the removal of the full notebook cells\n",
              "var notebookContainer = gd.closest('#notebook-container');\n",
              "if (notebookContainer) {{\n",
              "    x.observe(notebookContainer, {childList: true});\n",
              "}}\n",
              "\n",
              "// Listen for the clearing of the current output cell\n",
              "var outputEl = gd.closest('.output');\n",
              "if (outputEl) {{\n",
              "    x.observe(outputEl, {childList: true});\n",
              "}}\n",
              "\n",
              "                        })                };                            </script>        </div>\n",
              "</body>\n",
              "</html>"
            ]
          },
          "metadata": {}
        }
      ]
    },
    {
      "cell_type": "markdown",
      "source": [
        "-------------------"
      ],
      "metadata": {
        "id": "cwfDeLeXJjjA"
      }
    }
  ]
}