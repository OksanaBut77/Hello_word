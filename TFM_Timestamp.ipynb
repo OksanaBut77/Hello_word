{
  "nbformat": 4,
  "nbformat_minor": 0,
  "metadata": {
    "colab": {
      "provenance": [],
      "mount_file_id": "1KP-pCjF3iwDViTir-gWXeKw1x2mQThhh",
      "authorship_tag": "ABX9TyNFrs3LZ6/qg7rMNs12GkBW",
      "include_colab_link": true
    },
    "kernelspec": {
      "name": "python3",
      "display_name": "Python 3"
    },
    "language_info": {
      "name": "python"
    }
  },
  "cells": [
    {
      "cell_type": "markdown",
      "metadata": {
        "id": "view-in-github",
        "colab_type": "text"
      },
      "source": [
        "<a href=\"https://colab.research.google.com/github/OksanaBut77/TFM/blob/main/TFM_Timestamp.ipynb\" target=\"_parent\"><img src=\"https://colab.research.google.com/assets/colab-badge.svg\" alt=\"Open In Colab\"/></a>"
      ]
    },
    {
      "cell_type": "code",
      "source": [
        "import os\n",
        "import datetime\n",
        "import pandas as pd\n",
        "import numpy as np\n",
        "import matplotlib.pyplot as plt\n",
        "import seaborn as sns"
      ],
      "metadata": {
        "id": "Zh5wtKdnieE_"
      },
      "execution_count": 87,
      "outputs": []
    },
    {
      "cell_type": "markdown",
      "source": [
        "dataset inicial"
      ],
      "metadata": {
        "id": "aAOUBtuH0dlk"
      }
    },
    {
      "cell_type": "code",
      "source": [
        "df = pd.read_excel(\"/content/drive/MyDrive/TFM/Data set of Member Info.xlsx\")\n",
        "df.head()"
      ],
      "metadata": {
        "colab": {
          "base_uri": "https://localhost:8080/",
          "height": 342
        },
        "collapsed": true,
        "id": "0IhbbfPzjIEt",
        "outputId": "6f4fd586-a498-46cd-816b-a50158bc7817"
      },
      "execution_count": 88,
      "outputs": [
        {
          "output_type": "execute_result",
          "data": {
            "text/plain": [
              "   id  card_id  member_date  password        phone sex    birthday  point  \\\n",
              "0   1  1936560          NaN    123456  136opaq7233   男  1968-12-01    0.0   \n",
              "1   2  3208730          NaN    123456  135omrc0269   男  1954-07-24    0.0   \n",
              "2   3  4053650          NaN    123456  157ebob6164   女  2016-09-02    0.0   \n",
              "3   4  4053950          NaN    123456  159rmrp8106   女  1951-09-13    0.0   \n",
              "4   5  4133810          NaN    123456  139oeqn2724   男  2015-12-28    0.0   \n",
              "\n",
              "                  sfz address  ... county_code  street_code fate21 fate22  \\\n",
              "0  510224fardcdpq4379     NaN  ...         NaN          NaN    NaN    NaN   \n",
              "1                 NaN     NaN  ...         NaN          NaN    NaN    NaN   \n",
              "2                 NaN     NaN  ...         NaN          NaN    NaN    NaN   \n",
              "3  510223oarqqroh1425     NaN  ...         NaN          NaN    NaN    NaN   \n",
              "4                 NaN     NaN  ...         NaN          NaN    NaN    NaN   \n",
              "\n",
              "  fate23  fate24  fate25 value_level active_level nick_name  \n",
              "0    NaN     NaN     NaN           0            1       NaN  \n",
              "1    NaN     NaN     NaN           0            1       NaN  \n",
              "2    NaN     NaN     NaN           0            1       NaN  \n",
              "3    NaN     NaN     NaN           0            1       NaN  \n",
              "4    NaN     NaN     NaN           0            1       NaN  \n",
              "\n",
              "[5 rows x 123 columns]"
            ],
            "text/html": [
              "\n",
              "  <div id=\"df-6c77ae65-7789-49b5-98c9-aaa80354a17f\" class=\"colab-df-container\">\n",
              "    <div>\n",
              "<style scoped>\n",
              "    .dataframe tbody tr th:only-of-type {\n",
              "        vertical-align: middle;\n",
              "    }\n",
              "\n",
              "    .dataframe tbody tr th {\n",
              "        vertical-align: top;\n",
              "    }\n",
              "\n",
              "    .dataframe thead th {\n",
              "        text-align: right;\n",
              "    }\n",
              "</style>\n",
              "<table border=\"1\" class=\"dataframe\">\n",
              "  <thead>\n",
              "    <tr style=\"text-align: right;\">\n",
              "      <th></th>\n",
              "      <th>id</th>\n",
              "      <th>card_id</th>\n",
              "      <th>member_date</th>\n",
              "      <th>password</th>\n",
              "      <th>phone</th>\n",
              "      <th>sex</th>\n",
              "      <th>birthday</th>\n",
              "      <th>point</th>\n",
              "      <th>sfz</th>\n",
              "      <th>address</th>\n",
              "      <th>...</th>\n",
              "      <th>county_code</th>\n",
              "      <th>street_code</th>\n",
              "      <th>fate21</th>\n",
              "      <th>fate22</th>\n",
              "      <th>fate23</th>\n",
              "      <th>fate24</th>\n",
              "      <th>fate25</th>\n",
              "      <th>value_level</th>\n",
              "      <th>active_level</th>\n",
              "      <th>nick_name</th>\n",
              "    </tr>\n",
              "  </thead>\n",
              "  <tbody>\n",
              "    <tr>\n",
              "      <th>0</th>\n",
              "      <td>1</td>\n",
              "      <td>1936560</td>\n",
              "      <td>NaN</td>\n",
              "      <td>123456</td>\n",
              "      <td>136opaq7233</td>\n",
              "      <td>男</td>\n",
              "      <td>1968-12-01</td>\n",
              "      <td>0.0</td>\n",
              "      <td>510224fardcdpq4379</td>\n",
              "      <td>NaN</td>\n",
              "      <td>...</td>\n",
              "      <td>NaN</td>\n",
              "      <td>NaN</td>\n",
              "      <td>NaN</td>\n",
              "      <td>NaN</td>\n",
              "      <td>NaN</td>\n",
              "      <td>NaN</td>\n",
              "      <td>NaN</td>\n",
              "      <td>0</td>\n",
              "      <td>1</td>\n",
              "      <td>NaN</td>\n",
              "    </tr>\n",
              "    <tr>\n",
              "      <th>1</th>\n",
              "      <td>2</td>\n",
              "      <td>3208730</td>\n",
              "      <td>NaN</td>\n",
              "      <td>123456</td>\n",
              "      <td>135omrc0269</td>\n",
              "      <td>男</td>\n",
              "      <td>1954-07-24</td>\n",
              "      <td>0.0</td>\n",
              "      <td>NaN</td>\n",
              "      <td>NaN</td>\n",
              "      <td>...</td>\n",
              "      <td>NaN</td>\n",
              "      <td>NaN</td>\n",
              "      <td>NaN</td>\n",
              "      <td>NaN</td>\n",
              "      <td>NaN</td>\n",
              "      <td>NaN</td>\n",
              "      <td>NaN</td>\n",
              "      <td>0</td>\n",
              "      <td>1</td>\n",
              "      <td>NaN</td>\n",
              "    </tr>\n",
              "    <tr>\n",
              "      <th>2</th>\n",
              "      <td>3</td>\n",
              "      <td>4053650</td>\n",
              "      <td>NaN</td>\n",
              "      <td>123456</td>\n",
              "      <td>157ebob6164</td>\n",
              "      <td>女</td>\n",
              "      <td>2016-09-02</td>\n",
              "      <td>0.0</td>\n",
              "      <td>NaN</td>\n",
              "      <td>NaN</td>\n",
              "      <td>...</td>\n",
              "      <td>NaN</td>\n",
              "      <td>NaN</td>\n",
              "      <td>NaN</td>\n",
              "      <td>NaN</td>\n",
              "      <td>NaN</td>\n",
              "      <td>NaN</td>\n",
              "      <td>NaN</td>\n",
              "      <td>0</td>\n",
              "      <td>1</td>\n",
              "      <td>NaN</td>\n",
              "    </tr>\n",
              "    <tr>\n",
              "      <th>3</th>\n",
              "      <td>4</td>\n",
              "      <td>4053950</td>\n",
              "      <td>NaN</td>\n",
              "      <td>123456</td>\n",
              "      <td>159rmrp8106</td>\n",
              "      <td>女</td>\n",
              "      <td>1951-09-13</td>\n",
              "      <td>0.0</td>\n",
              "      <td>510223oarqqroh1425</td>\n",
              "      <td>NaN</td>\n",
              "      <td>...</td>\n",
              "      <td>NaN</td>\n",
              "      <td>NaN</td>\n",
              "      <td>NaN</td>\n",
              "      <td>NaN</td>\n",
              "      <td>NaN</td>\n",
              "      <td>NaN</td>\n",
              "      <td>NaN</td>\n",
              "      <td>0</td>\n",
              "      <td>1</td>\n",
              "      <td>NaN</td>\n",
              "    </tr>\n",
              "    <tr>\n",
              "      <th>4</th>\n",
              "      <td>5</td>\n",
              "      <td>4133810</td>\n",
              "      <td>NaN</td>\n",
              "      <td>123456</td>\n",
              "      <td>139oeqn2724</td>\n",
              "      <td>男</td>\n",
              "      <td>2015-12-28</td>\n",
              "      <td>0.0</td>\n",
              "      <td>NaN</td>\n",
              "      <td>NaN</td>\n",
              "      <td>...</td>\n",
              "      <td>NaN</td>\n",
              "      <td>NaN</td>\n",
              "      <td>NaN</td>\n",
              "      <td>NaN</td>\n",
              "      <td>NaN</td>\n",
              "      <td>NaN</td>\n",
              "      <td>NaN</td>\n",
              "      <td>0</td>\n",
              "      <td>1</td>\n",
              "      <td>NaN</td>\n",
              "    </tr>\n",
              "  </tbody>\n",
              "</table>\n",
              "<p>5 rows × 123 columns</p>\n",
              "</div>\n",
              "    <div class=\"colab-df-buttons\">\n",
              "\n",
              "  <div class=\"colab-df-container\">\n",
              "    <button class=\"colab-df-convert\" onclick=\"convertToInteractive('df-6c77ae65-7789-49b5-98c9-aaa80354a17f')\"\n",
              "            title=\"Convert this dataframe to an interactive table.\"\n",
              "            style=\"display:none;\">\n",
              "\n",
              "  <svg xmlns=\"http://www.w3.org/2000/svg\" height=\"24px\" viewBox=\"0 -960 960 960\">\n",
              "    <path d=\"M120-120v-720h720v720H120Zm60-500h600v-160H180v160Zm220 220h160v-160H400v160Zm0 220h160v-160H400v160ZM180-400h160v-160H180v160Zm440 0h160v-160H620v160ZM180-180h160v-160H180v160Zm440 0h160v-160H620v160Z\"/>\n",
              "  </svg>\n",
              "    </button>\n",
              "\n",
              "  <style>\n",
              "    .colab-df-container {\n",
              "      display:flex;\n",
              "      gap: 12px;\n",
              "    }\n",
              "\n",
              "    .colab-df-convert {\n",
              "      background-color: #E8F0FE;\n",
              "      border: none;\n",
              "      border-radius: 50%;\n",
              "      cursor: pointer;\n",
              "      display: none;\n",
              "      fill: #1967D2;\n",
              "      height: 32px;\n",
              "      padding: 0 0 0 0;\n",
              "      width: 32px;\n",
              "    }\n",
              "\n",
              "    .colab-df-convert:hover {\n",
              "      background-color: #E2EBFA;\n",
              "      box-shadow: 0px 1px 2px rgba(60, 64, 67, 0.3), 0px 1px 3px 1px rgba(60, 64, 67, 0.15);\n",
              "      fill: #174EA6;\n",
              "    }\n",
              "\n",
              "    .colab-df-buttons div {\n",
              "      margin-bottom: 4px;\n",
              "    }\n",
              "\n",
              "    [theme=dark] .colab-df-convert {\n",
              "      background-color: #3B4455;\n",
              "      fill: #D2E3FC;\n",
              "    }\n",
              "\n",
              "    [theme=dark] .colab-df-convert:hover {\n",
              "      background-color: #434B5C;\n",
              "      box-shadow: 0px 1px 3px 1px rgba(0, 0, 0, 0.15);\n",
              "      filter: drop-shadow(0px 1px 2px rgba(0, 0, 0, 0.3));\n",
              "      fill: #FFFFFF;\n",
              "    }\n",
              "  </style>\n",
              "\n",
              "    <script>\n",
              "      const buttonEl =\n",
              "        document.querySelector('#df-6c77ae65-7789-49b5-98c9-aaa80354a17f button.colab-df-convert');\n",
              "      buttonEl.style.display =\n",
              "        google.colab.kernel.accessAllowed ? 'block' : 'none';\n",
              "\n",
              "      async function convertToInteractive(key) {\n",
              "        const element = document.querySelector('#df-6c77ae65-7789-49b5-98c9-aaa80354a17f');\n",
              "        const dataTable =\n",
              "          await google.colab.kernel.invokeFunction('convertToInteractive',\n",
              "                                                    [key], {});\n",
              "        if (!dataTable) return;\n",
              "\n",
              "        const docLinkHtml = 'Like what you see? Visit the ' +\n",
              "          '<a target=\"_blank\" href=https://colab.research.google.com/notebooks/data_table.ipynb>data table notebook</a>'\n",
              "          + ' to learn more about interactive tables.';\n",
              "        element.innerHTML = '';\n",
              "        dataTable['output_type'] = 'display_data';\n",
              "        await google.colab.output.renderOutput(dataTable, element);\n",
              "        const docLink = document.createElement('div');\n",
              "        docLink.innerHTML = docLinkHtml;\n",
              "        element.appendChild(docLink);\n",
              "      }\n",
              "    </script>\n",
              "  </div>\n",
              "\n",
              "\n",
              "    <div id=\"df-47967811-8511-4739-ad93-d3a888df5381\">\n",
              "      <button class=\"colab-df-quickchart\" onclick=\"quickchart('df-47967811-8511-4739-ad93-d3a888df5381')\"\n",
              "                title=\"Suggest charts\"\n",
              "                style=\"display:none;\">\n",
              "\n",
              "<svg xmlns=\"http://www.w3.org/2000/svg\" height=\"24px\"viewBox=\"0 0 24 24\"\n",
              "     width=\"24px\">\n",
              "    <g>\n",
              "        <path d=\"M19 3H5c-1.1 0-2 .9-2 2v14c0 1.1.9 2 2 2h14c1.1 0 2-.9 2-2V5c0-1.1-.9-2-2-2zM9 17H7v-7h2v7zm4 0h-2V7h2v10zm4 0h-2v-4h2v4z\"/>\n",
              "    </g>\n",
              "</svg>\n",
              "      </button>\n",
              "\n",
              "<style>\n",
              "  .colab-df-quickchart {\n",
              "      --bg-color: #E8F0FE;\n",
              "      --fill-color: #1967D2;\n",
              "      --hover-bg-color: #E2EBFA;\n",
              "      --hover-fill-color: #174EA6;\n",
              "      --disabled-fill-color: #AAA;\n",
              "      --disabled-bg-color: #DDD;\n",
              "  }\n",
              "\n",
              "  [theme=dark] .colab-df-quickchart {\n",
              "      --bg-color: #3B4455;\n",
              "      --fill-color: #D2E3FC;\n",
              "      --hover-bg-color: #434B5C;\n",
              "      --hover-fill-color: #FFFFFF;\n",
              "      --disabled-bg-color: #3B4455;\n",
              "      --disabled-fill-color: #666;\n",
              "  }\n",
              "\n",
              "  .colab-df-quickchart {\n",
              "    background-color: var(--bg-color);\n",
              "    border: none;\n",
              "    border-radius: 50%;\n",
              "    cursor: pointer;\n",
              "    display: none;\n",
              "    fill: var(--fill-color);\n",
              "    height: 32px;\n",
              "    padding: 0;\n",
              "    width: 32px;\n",
              "  }\n",
              "\n",
              "  .colab-df-quickchart:hover {\n",
              "    background-color: var(--hover-bg-color);\n",
              "    box-shadow: 0 1px 2px rgba(60, 64, 67, 0.3), 0 1px 3px 1px rgba(60, 64, 67, 0.15);\n",
              "    fill: var(--button-hover-fill-color);\n",
              "  }\n",
              "\n",
              "  .colab-df-quickchart-complete:disabled,\n",
              "  .colab-df-quickchart-complete:disabled:hover {\n",
              "    background-color: var(--disabled-bg-color);\n",
              "    fill: var(--disabled-fill-color);\n",
              "    box-shadow: none;\n",
              "  }\n",
              "\n",
              "  .colab-df-spinner {\n",
              "    border: 2px solid var(--fill-color);\n",
              "    border-color: transparent;\n",
              "    border-bottom-color: var(--fill-color);\n",
              "    animation:\n",
              "      spin 1s steps(1) infinite;\n",
              "  }\n",
              "\n",
              "  @keyframes spin {\n",
              "    0% {\n",
              "      border-color: transparent;\n",
              "      border-bottom-color: var(--fill-color);\n",
              "      border-left-color: var(--fill-color);\n",
              "    }\n",
              "    20% {\n",
              "      border-color: transparent;\n",
              "      border-left-color: var(--fill-color);\n",
              "      border-top-color: var(--fill-color);\n",
              "    }\n",
              "    30% {\n",
              "      border-color: transparent;\n",
              "      border-left-color: var(--fill-color);\n",
              "      border-top-color: var(--fill-color);\n",
              "      border-right-color: var(--fill-color);\n",
              "    }\n",
              "    40% {\n",
              "      border-color: transparent;\n",
              "      border-right-color: var(--fill-color);\n",
              "      border-top-color: var(--fill-color);\n",
              "    }\n",
              "    60% {\n",
              "      border-color: transparent;\n",
              "      border-right-color: var(--fill-color);\n",
              "    }\n",
              "    80% {\n",
              "      border-color: transparent;\n",
              "      border-right-color: var(--fill-color);\n",
              "      border-bottom-color: var(--fill-color);\n",
              "    }\n",
              "    90% {\n",
              "      border-color: transparent;\n",
              "      border-bottom-color: var(--fill-color);\n",
              "    }\n",
              "  }\n",
              "</style>\n",
              "\n",
              "      <script>\n",
              "        async function quickchart(key) {\n",
              "          const quickchartButtonEl =\n",
              "            document.querySelector('#' + key + ' button');\n",
              "          quickchartButtonEl.disabled = true;  // To prevent multiple clicks.\n",
              "          quickchartButtonEl.classList.add('colab-df-spinner');\n",
              "          try {\n",
              "            const charts = await google.colab.kernel.invokeFunction(\n",
              "                'suggestCharts', [key], {});\n",
              "          } catch (error) {\n",
              "            console.error('Error during call to suggestCharts:', error);\n",
              "          }\n",
              "          quickchartButtonEl.classList.remove('colab-df-spinner');\n",
              "          quickchartButtonEl.classList.add('colab-df-quickchart-complete');\n",
              "        }\n",
              "        (() => {\n",
              "          let quickchartButtonEl =\n",
              "            document.querySelector('#df-47967811-8511-4739-ad93-d3a888df5381 button');\n",
              "          quickchartButtonEl.style.display =\n",
              "            google.colab.kernel.accessAllowed ? 'block' : 'none';\n",
              "        })();\n",
              "      </script>\n",
              "    </div>\n",
              "\n",
              "    </div>\n",
              "  </div>\n"
            ],
            "application/vnd.google.colaboratory.intrinsic+json": {
              "type": "dataframe",
              "variable_name": "df"
            }
          },
          "metadata": {},
          "execution_count": 88
        }
      ]
    },
    {
      "cell_type": "code",
      "source": [
        "nan_percentages = (df.isna().mean() * 100).sort_values(ascending=False)\n",
        "print(nan_percentages[\"last_consume_time\"])"
      ],
      "metadata": {
        "colab": {
          "base_uri": "https://localhost:8080/"
        },
        "id": "nNaWWRdsuv0T",
        "outputId": "c725102b-c453-481f-9efe-fbec8b4d2af2"
      },
      "execution_count": 89,
      "outputs": [
        {
          "output_type": "stream",
          "name": "stdout",
          "text": [
            "57.86\n"
          ]
        }
      ]
    },
    {
      "cell_type": "code",
      "source": [
        "df['last_consume_time'] = pd.to_datetime(df['last_consume_time'], errors='coerce')"
      ],
      "metadata": {
        "id": "U2xDINXgjdoo"
      },
      "execution_count": 90,
      "outputs": []
    },
    {
      "cell_type": "code",
      "source": [
        "# Eliminar nan\n",
        "df = df.dropna(subset=['last_consume_time'])\n",
        "\n",
        "# Ordenar por fecha\n",
        "df = df.sort_values(by='last_consume_time')\n",
        "\n",
        "fecha_min = df['last_consume_time'].min()\n",
        "fecha_max = df['last_consume_time'].max()\n",
        "\n",
        "print(\"Oldest date:\", fecha_min)\n",
        "print(\"Most recent date:\", fecha_max)\n",
        "\n",
        "# Diferencias entre fechas consecutivas\n",
        "diferencias = df['last_consume_time'].diff().dropna()\n",
        "\n",
        "frecuencia = diferencias.mode()[0]\n",
        "print(\"Most common frequency between records:\", frecuencia)"
      ],
      "metadata": {
        "colab": {
          "base_uri": "https://localhost:8080/"
        },
        "id": "t7XKS_iQjns1",
        "outputId": "7c781987-4238-4aca-8800-dceff3fd9a7f"
      },
      "execution_count": 91,
      "outputs": [
        {
          "output_type": "stream",
          "name": "stdout",
          "text": [
            "Oldest date: 2016-01-01 12:41:11\n",
            "Most recent date: 2021-12-12 21:53:18\n",
            "Most common frequency between records: 0 days 00:00:14\n"
          ]
        }
      ]
    },
    {
      "cell_type": "code",
      "source": [
        "df['last_consume_time'].count()"
      ],
      "metadata": {
        "colab": {
          "base_uri": "https://localhost:8080/"
        },
        "id": "B84YTj1-vvWl",
        "outputId": "71347771-c6cb-441a-91fa-c25f57685b42"
      },
      "execution_count": 92,
      "outputs": [
        {
          "output_type": "execute_result",
          "data": {
            "text/plain": [
              "np.int64(4214)"
            ]
          },
          "metadata": {},
          "execution_count": 92
        }
      ]
    },
    {
      "cell_type": "code",
      "source": [
        "df['year'] = df['last_consume_time'].dt.year"
      ],
      "metadata": {
        "id": "U0utvz7uq0nC"
      },
      "execution_count": 93,
      "outputs": []
    },
    {
      "cell_type": "code",
      "source": [
        "df['fecha'] = df['last_consume_time'].dt.date"
      ],
      "metadata": {
        "id": "wqQ7eAfZroQ7"
      },
      "execution_count": 94,
      "outputs": []
    },
    {
      "cell_type": "code",
      "source": [
        "# Agrupar por fecha\n",
        "registros_por_dia = df.groupby('fecha').size()"
      ],
      "metadata": {
        "id": "mpnKulbPrrVW"
      },
      "execution_count": 95,
      "outputs": []
    },
    {
      "cell_type": "code",
      "source": [
        "media_diaria = registros_por_dia.mean()\n",
        "print(f\"Average number of registrations per day: {media_diaria:.2f}\")"
      ],
      "metadata": {
        "colab": {
          "base_uri": "https://localhost:8080/"
        },
        "id": "KZ3zNbaaruGT",
        "outputId": "8320cb7f-105a-4f07-9f64-c4138bfbdd6c"
      },
      "execution_count": 96,
      "outputs": [
        {
          "output_type": "stream",
          "name": "stdout",
          "text": [
            "Average number of registrations per day: 3.12\n"
          ]
        }
      ]
    },
    {
      "cell_type": "code",
      "source": [
        "usuarios_por_año = df.groupby('year')['card_id'].nunique()\n",
        "print(usuarios_por_año)"
      ],
      "metadata": {
        "colab": {
          "base_uri": "https://localhost:8080/"
        },
        "id": "sYftMk4aq9YN",
        "outputId": "f15d280d-e0f3-4c1d-d868-01c3a1fe9fe9"
      },
      "execution_count": 97,
      "outputs": [
        {
          "output_type": "stream",
          "name": "stdout",
          "text": [
            "year\n",
            "2016     903\n",
            "2017     322\n",
            "2018     266\n",
            "2019     312\n",
            "2020     362\n",
            "2021    2049\n",
            "Name: card_id, dtype: int64\n"
          ]
        }
      ]
    },
    {
      "cell_type": "code",
      "source": [
        "# Filtrar solo 2016\n",
        "df_2016 = df[df['last_consume_time'].dt.year == 2016]\n",
        "\n",
        "# Contar por día\n",
        "conteo_2016 = df_2016.groupby(df_2016['last_consume_time'].dt.date).size().sort_values(ascending=False)\n",
        "\n",
        "print(conteo_2016.head(10))"
      ],
      "metadata": {
        "colab": {
          "base_uri": "https://localhost:8080/"
        },
        "id": "ifP7ABKExMON",
        "outputId": "d996a7c6-fd3c-40e1-adb4-bdeaa100bbfe"
      },
      "execution_count": 98,
      "outputs": [
        {
          "output_type": "stream",
          "name": "stdout",
          "text": [
            "last_consume_time\n",
            "2016-01-02    196\n",
            "2016-01-01    128\n",
            "2016-09-03     17\n",
            "2016-09-02     17\n",
            "2016-09-05     14\n",
            "2016-06-17     12\n",
            "2016-06-19     10\n",
            "2016-09-01      9\n",
            "2016-09-04      9\n",
            "2016-09-12      8\n",
            "dtype: int64\n"
          ]
        }
      ]
    },
    {
      "cell_type": "markdown",
      "source": [
        "Esto no es un comportamiento normal para datos longitudinales capturados automáticamente. Muy probablemente se trata de:\n",
        "Importación inicial o prueba del sistema (cuando empezó a registrar).\n",
        "Carga masiva o error de backfill al migrar datos."
      ],
      "metadata": {
        "id": "qMH4a47Kxhdh"
      }
    },
    {
      "cell_type": "code",
      "source": [
        "# Convertir a string por si hay problemas de formato\n",
        "df = df[~df['last_consume_time'].dt.date.isin([pd.to_datetime(\"2016-01-01\").date(),\n",
        "                                               pd.to_datetime(\"2016-01-02\").date()])]"
      ],
      "metadata": {
        "id": "WR-JV_vXxt_m"
      },
      "execution_count": 99,
      "outputs": []
    },
    {
      "cell_type": "code",
      "source": [
        "# Agrupar por fecha\n",
        "registros_por_dia = df.groupby('fecha').size()\n",
        "\n",
        "# Convertir el índice para graficar\n",
        "registros_por_dia.index = pd.to_datetime(registros_por_dia.index)\n",
        "\n",
        "plt.figure(figsize=(14, 6))\n",
        "registros_por_dia.plot(linewidth=1, color='royalblue')\n",
        "\n",
        "plt.title('Number of records per day - last_consume_date', fontsize=14)\n",
        "plt.xlabel('Date')\n",
        "plt.ylabel('Number of records')\n",
        "plt.grid(True, linestyle='--', alpha=0.5)\n",
        "plt.tight_layout()\n",
        "plt.show()"
      ],
      "metadata": {
        "colab": {
          "base_uri": "https://localhost:8080/",
          "height": 481
        },
        "id": "_LzmHPigtv_h",
        "outputId": "d937ee57-a94b-4f50-b6d4-e74b4e402b8f"
      },
      "execution_count": 100,
      "outputs": [
        {
          "output_type": "display_data",
          "data": {
            "text/plain": [
              "<Figure size 1400x600 with 1 Axes>"
            ],
            "image/png": "[encoded data removed]"
          },
          "metadata": {}
        }
      ]
    },
    {
      "cell_type": "markdown",
      "source": [
        "------------------"
      ],
      "metadata": {
        "id": "2BGoAjES1P43"
      }
    },
    {
      "cell_type": "code",
      "source": [
        "# Diferencias entre fechas consecutivas\n",
        "diferencias2 = df['last_consume_time'].diff().dropna()\n",
        "\n",
        "frecuencia = diferencias2.mode()[0]\n",
        "print(\"Most common frequency between records:\", frecuencia)"
      ],
      "metadata": {
        "colab": {
          "base_uri": "https://localhost:8080/"
        },
        "id": "1SzHN_Nd37M5",
        "outputId": "433ff436-3bb7-4b66-cca2-84fd27e9e321"
      },
      "execution_count": 101,
      "outputs": [
        {
          "output_type": "stream",
          "name": "stdout",
          "text": [
            "Most common frequency between records: 0 days 00:11:06\n"
          ]
        }
      ]
    }
  ]
}